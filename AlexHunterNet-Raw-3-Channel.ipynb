{
 "cells": [
  {
   "cell_type": "code",
   "execution_count": 2,
   "metadata": {
    "ExecuteTime": {
     "end_time": "2019-12-09T00:35:43.240395Z",
     "start_time": "2019-12-09T00:35:28.790685Z"
    }
   },
   "outputs": [
    {
     "name": "stderr",
     "output_type": "stream",
     "text": [
      "Using TensorFlow backend.\n"
     ]
    }
   ],
   "source": [
    "from keras.models import load_model\n",
    "from keras.models import Sequential\n",
    "from keras.layers import Dense, Conv2D, MaxPooling2D, BatchNormalization, GaussianNoise\n",
    "from keras.layers import Dropout, Flatten, GlobalAveragePooling2D\n",
    "from keras.optimizers import SGD\n",
    "from keras.callbacks import ReduceLROnPlateau, EarlyStopping\n",
    "import numpy as np\n",
    "import glob\n",
    "import os\n",
    "from scipy.misc import imread, imresize\n",
    "import pandas as pd\n",
    "from sklearn.model_selection import train_test_split\n",
    "from keras.preprocessing.image import ImageDataGenerator\n",
    "from skimage.color import rgb2gray\n",
    "from keras.utils import np_utils\n",
    "import pywt\n",
    "import matplotlib.pyplot as plt\n",
    "import cv2\n",
    "from skimage.transform import resize\n",
    "from keras.initializers import glorot_uniform, Orthogonal\n",
    "\n",
    "np.random.seed(seed=42)\n",
    "glorot = glorot_uniform(seed=None)\n",
    "orth = Orthogonal(gain=1.0, seed=None)"
   ]
  },
  {
   "cell_type": "markdown",
   "metadata": {},
   "source": [
    "#### Load Data"
   ]
  },
  {
   "cell_type": "code",
   "execution_count": 3,
   "metadata": {
    "ExecuteTime": {
     "end_time": "2019-12-09T00:35:53.203968Z",
     "start_time": "2019-12-09T00:35:43.255753Z"
    }
   },
   "outputs": [
    {
     "name": "stderr",
     "output_type": "stream",
     "text": [
      "c:\\users\\gjber\\appdata\\local\\programs\\python\\python36\\lib\\site-packages\\ipykernel_launcher.py:6: DeprecationWarning: `imread` is deprecated!\n",
      "`imread` is deprecated in SciPy 1.0.0, and will be removed in 1.2.0.\n",
      "Use ``imageio.imread`` instead.\n",
      "  \n",
      "c:\\users\\gjber\\appdata\\local\\programs\\python\\python36\\lib\\site-packages\\skimage\\transform\\_warps.py:105: UserWarning: The default mode, 'constant', will be changed to 'reflect' in skimage 0.15.\n",
      "  warn(\"The default mode, 'constant', will be changed to 'reflect' in \"\n",
      "c:\\users\\gjber\\appdata\\local\\programs\\python\\python36\\lib\\site-packages\\skimage\\transform\\_warps.py:110: UserWarning: Anti-aliasing will be enabled by default in skimage 0.15 to avoid aliasing artifacts when down-sampling images.\n",
      "  warn(\"Anti-aliasing will be enabled by default in skimage 0.15 to \"\n",
      "c:\\users\\gjber\\appdata\\local\\programs\\python\\python36\\lib\\site-packages\\ipykernel_launcher.py:10: DeprecationWarning: `imread` is deprecated!\n",
      "`imread` is deprecated in SciPy 1.0.0, and will be removed in 1.2.0.\n",
      "Use ``imageio.imread`` instead.\n",
      "  # Remove the CWD from sys.path while we load stuff.\n"
     ]
    }
   ],
   "source": [
    "master_folder = '../GrantData401Project4/PhotosDataset/'\n",
    "\n",
    "imgs = []\n",
    "labels = []\n",
    "for photo in os.listdir(master_folder+'/Alex'):\n",
    "    img = imread(master_folder+'/Alex/'+photo)\n",
    "    imgs.append(resize(img,(200,200,4)))\n",
    "    labels.append('Alex')\n",
    "for photo in os.listdir(master_folder+'/Hunter'):\n",
    "    img = imread(master_folder+'/Hunter/'+photo)\n",
    "    imgs.append(resize(img,(200,200,4)))\n",
    "    labels.append('Hunter')"
   ]
  },
  {
   "cell_type": "markdown",
   "metadata": {},
   "source": [
    "#### Massage Data"
   ]
  },
  {
   "cell_type": "code",
   "execution_count": 4,
   "metadata": {
    "ExecuteTime": {
     "end_time": "2019-12-09T00:35:54.255273Z",
     "start_time": "2019-12-09T00:35:53.704159Z"
    }
   },
   "outputs": [],
   "source": [
    "from sklearn.model_selection import StratifiedKFold\n",
    "\n",
    "# Take out alpha component of image\n",
    "imgs = [img[:,:,[0,1,2]] for img in imgs]\n",
    "imgs = np.stack(imgs, axis=0)\n",
    "\n",
    "\n",
    "num_classes = 2\n",
    "num_channels = 3\n",
    "batch_size=4\n",
    "epochs=2\n",
    "k = 10\n",
    "\n",
    "strat_cv = StratifiedKFold(n_splits=k, shuffle=True)\n",
    "\n",
    "#data augmentation\n",
    "datagen = ImageDataGenerator(\n",
    "    featurewise_center=False,  # set input mean to 0 over the dataset\n",
    "    samplewise_center=False,  # set each sample mean to 0\n",
    "    featurewise_std_normalization=False,  # divide inputs by std of the dataset\n",
    "    samplewise_std_normalization=False,  # divide each input by its std\n",
    "    zca_whitening=False,  # apply ZCA whitening\n",
    "    rotation_range=0,  # randomly rotate images in the range (degrees, 0 to 180)\n",
    "    width_shift_range=.2,  # randomly shift images horizontally (fraction of total width)\n",
    "    height_shift_range=.2,  # randomly shift images vertically (fraction of total height)\n",
    "    horizontal_flip=True,  # randomly flip images\n",
    "    vertical_flip=False)  # randomly flip images"
   ]
  },
  {
   "cell_type": "markdown",
   "metadata": {},
   "source": [
    "### Model with no transfer learning"
   ]
  },
  {
   "cell_type": "code",
   "execution_count": 12,
   "metadata": {
    "ExecuteTime": {
     "end_time": "2019-12-08T01:56:25.675745Z",
     "start_time": "2019-12-08T01:56:25.668763Z"
    }
   },
   "outputs": [],
   "source": [
    "def initialize_model():\n",
    "    model = Sequential()\n",
    "\n",
    "    # Note that we leave the image size as None to allow multiple image sizes\n",
    "    model.add(Conv2D(48, (7, 7),strides=2, padding='same',\n",
    "                     activation='relu',input_shape=(200, 200,num_channels),\n",
    "                    name='input_layer'))\n",
    "    model.add(MaxPooling2D((3,3)))\n",
    "    model.add(GaussianNoise(.1))\n",
    "\n",
    "    model.add(Conv2D(24, (3, 3),strides=1, padding='same',activation='relu'))\n",
    "    model.add(Flatten())\n",
    "\n",
    "    model.add(Dense(128,activation='relu'))\n",
    "    model.add(Dropout(.3))\n",
    "\n",
    "    # Classification layer\n",
    "    model.add(Dense(2, activation='softmax'))\n",
    "\n",
    "    # opt = SGD(lr=0.01, decay=1e-6, momentum=0.9, nesterov=True)\n",
    "    model.compile(loss='categorical_crossentropy', optimizer='adam', metrics=['accuracy'])\n",
    "    \n",
    "    return model"
   ]
  },
  {
   "cell_type": "markdown",
   "metadata": {},
   "source": [
    "Cross Validate model"
   ]
  },
  {
   "cell_type": "code",
   "execution_count": 13,
   "metadata": {
    "ExecuteTime": {
     "end_time": "2019-12-08T02:00:29.557694Z",
     "start_time": "2019-12-08T01:56:27.361432Z"
    }
   },
   "outputs": [
    {
     "name": "stdout",
     "output_type": "stream",
     "text": [
      "Epoch 1/2\n",
      "83/83 [==============================] - 17s 206ms/step - loss: 0.0663 - acc: 0.9789 - val_loss: 2.5679e-06 - val_acc: 1.0000\n",
      "Epoch 2/2\n",
      "83/83 [==============================] - 15s 177ms/step - loss: 3.6733e-07 - acc: 1.0000 - val_loss: 2.3858e-06 - val_acc: 1.0000\n",
      "Epoch 1/2\n",
      "83/83 [==============================] - 17s 207ms/step - loss: 0.0774 - acc: 0.9789 - val_loss: 1.2404e-07 - val_acc: 1.0000\n",
      "Epoch 2/2\n",
      "83/83 [==============================] - 15s 179ms/step - loss: 1.8330e-07 - acc: 1.0000 - val_loss: 1.2243e-07 - val_acc: 1.0000\n",
      "Epoch 1/2\n",
      "83/83 [==============================] - 18s 216ms/step - loss: 0.2216 - acc: 0.9367 - val_loss: 9.0061e-06 - val_acc: 1.0000\n",
      "Epoch 2/2\n",
      "83/83 [==============================] - 16s 194ms/step - loss: 1.2316e-07 - acc: 1.0000 - val_loss: 1.1921e-07 - val_acc: 1.0000\n",
      "Epoch 1/2\n",
      "83/83 [==============================] - 19s 224ms/step - loss: 0.1323 - acc: 0.9699 - val_loss: 1.1921e-07 - val_acc: 1.0000\n",
      "Epoch 2/2\n",
      "83/83 [==============================] - 16s 197ms/step - loss: 0.0842 - acc: 0.9880 - val_loss: 1.2726e-07 - val_acc: 1.0000\n",
      "Epoch 1/2\n",
      "83/83 [==============================] - 19s 232ms/step - loss: 0.0721 - acc: 0.9699 - val_loss: 1.1921e-07 - val_acc: 1.0000\n",
      "Epoch 2/2\n",
      "83/83 [==============================] - 17s 199ms/step - loss: 1.6158e-07 - acc: 1.0000 - val_loss: 1.1921e-07 - val_acc: 1.0000\n",
      "Epoch 1/2\n",
      "83/83 [==============================] - 20s 239ms/step - loss: 0.2270 - acc: 0.9518 - val_loss: 1.2243e-07 - val_acc: 1.0000\n",
      "Epoch 2/2\n",
      "83/83 [==============================] - 18s 215ms/step - loss: 3.7177e-06 - acc: 1.0000 - val_loss: 1.2243e-07 - val_acc: 1.0000\n",
      "Epoch 1/2\n",
      "83/83 [==============================] - 19s 227ms/step - loss: 0.1923 - acc: 0.9518 - val_loss: 0.0040 - val_acc: 1.0000\n",
      "Epoch 2/2\n",
      "30/83 [=========>....................] - ETA: 11s - loss: 0.0480 - acc: 0.9833 E"
     ]
    },
    {
     "ename": "KeyboardInterrupt",
     "evalue": "",
     "output_type": "error",
     "traceback": [
      "\u001b[1;31m---------------------------------------------------------------------------\u001b[0m",
      "\u001b[1;31mKeyboardInterrupt\u001b[0m                         Traceback (most recent call last)",
      "\u001b[1;32m<ipython-input-13-cc29fed2681e>\u001b[0m in \u001b[0;36m<module>\u001b[1;34m()\u001b[0m\n\u001b[0;32m     26\u001b[0m                         \u001b[0mepochs\u001b[0m\u001b[1;33m=\u001b[0m\u001b[0mepochs\u001b[0m\u001b[1;33m,\u001b[0m\u001b[1;33m\u001b[0m\u001b[0m\n\u001b[0;32m     27\u001b[0m                         \u001b[0mvalidation_data\u001b[0m\u001b[1;33m=\u001b[0m\u001b[1;33m(\u001b[0m\u001b[0mx_test\u001b[0m\u001b[1;33m,\u001b[0m \u001b[0my_test\u001b[0m\u001b[1;33m)\u001b[0m\u001b[1;33m,\u001b[0m\u001b[0mverbose\u001b[0m\u001b[1;33m=\u001b[0m\u001b[1;36m1\u001b[0m\u001b[1;33m,\u001b[0m\u001b[1;33m\u001b[0m\u001b[0m\n\u001b[1;32m---> 28\u001b[1;33m                         callbacks=callbacks)\n\u001b[0m\u001b[0;32m     29\u001b[0m     \u001b[1;31m# Store models\u001b[0m\u001b[1;33m\u001b[0m\u001b[1;33m\u001b[0m\u001b[0m\n\u001b[0;32m     30\u001b[0m     \u001b[0mmodel_dict\u001b[0m\u001b[1;33m[\u001b[0m\u001b[0mmodel_count\u001b[0m\u001b[1;33m]\u001b[0m \u001b[1;33m=\u001b[0m \u001b[0mmodel\u001b[0m\u001b[1;33m\u001b[0m\u001b[0m\n",
      "\u001b[1;32m~\\AppData\\Roaming\\Python\\Python36\\site-packages\\keras\\legacy\\interfaces.py\u001b[0m in \u001b[0;36mwrapper\u001b[1;34m(*args, **kwargs)\u001b[0m\n\u001b[0;32m     89\u001b[0m                 warnings.warn('Update your `' + object_name + '` call to the ' +\n\u001b[0;32m     90\u001b[0m                               'Keras 2 API: ' + signature, stacklevel=2)\n\u001b[1;32m---> 91\u001b[1;33m             \u001b[1;32mreturn\u001b[0m \u001b[0mfunc\u001b[0m\u001b[1;33m(\u001b[0m\u001b[1;33m*\u001b[0m\u001b[0margs\u001b[0m\u001b[1;33m,\u001b[0m \u001b[1;33m**\u001b[0m\u001b[0mkwargs\u001b[0m\u001b[1;33m)\u001b[0m\u001b[1;33m\u001b[0m\u001b[0m\n\u001b[0m\u001b[0;32m     92\u001b[0m         \u001b[0mwrapper\u001b[0m\u001b[1;33m.\u001b[0m\u001b[0m_original_function\u001b[0m \u001b[1;33m=\u001b[0m \u001b[0mfunc\u001b[0m\u001b[1;33m\u001b[0m\u001b[0m\n\u001b[0;32m     93\u001b[0m         \u001b[1;32mreturn\u001b[0m \u001b[0mwrapper\u001b[0m\u001b[1;33m\u001b[0m\u001b[0m\n",
      "\u001b[1;32m~\\AppData\\Roaming\\Python\\Python36\\site-packages\\keras\\engine\\training.py\u001b[0m in \u001b[0;36mfit_generator\u001b[1;34m(self, generator, steps_per_epoch, epochs, verbose, callbacks, validation_data, validation_steps, class_weight, max_queue_size, workers, use_multiprocessing, shuffle, initial_epoch)\u001b[0m\n\u001b[0;32m   1416\u001b[0m             \u001b[0muse_multiprocessing\u001b[0m\u001b[1;33m=\u001b[0m\u001b[0muse_multiprocessing\u001b[0m\u001b[1;33m,\u001b[0m\u001b[1;33m\u001b[0m\u001b[0m\n\u001b[0;32m   1417\u001b[0m             \u001b[0mshuffle\u001b[0m\u001b[1;33m=\u001b[0m\u001b[0mshuffle\u001b[0m\u001b[1;33m,\u001b[0m\u001b[1;33m\u001b[0m\u001b[0m\n\u001b[1;32m-> 1418\u001b[1;33m             initial_epoch=initial_epoch)\n\u001b[0m\u001b[0;32m   1419\u001b[0m \u001b[1;33m\u001b[0m\u001b[0m\n\u001b[0;32m   1420\u001b[0m     \u001b[1;33m@\u001b[0m\u001b[0minterfaces\u001b[0m\u001b[1;33m.\u001b[0m\u001b[0mlegacy_generator_methods_support\u001b[0m\u001b[1;33m\u001b[0m\u001b[0m\n",
      "\u001b[1;32m~\\AppData\\Roaming\\Python\\Python36\\site-packages\\keras\\engine\\training_generator.py\u001b[0m in \u001b[0;36mfit_generator\u001b[1;34m(model, generator, steps_per_epoch, epochs, verbose, callbacks, validation_data, validation_steps, class_weight, max_queue_size, workers, use_multiprocessing, shuffle, initial_epoch)\u001b[0m\n\u001b[0;32m    215\u001b[0m                 outs = model.train_on_batch(x, y,\n\u001b[0;32m    216\u001b[0m                                             \u001b[0msample_weight\u001b[0m\u001b[1;33m=\u001b[0m\u001b[0msample_weight\u001b[0m\u001b[1;33m,\u001b[0m\u001b[1;33m\u001b[0m\u001b[0m\n\u001b[1;32m--> 217\u001b[1;33m                                             class_weight=class_weight)\n\u001b[0m\u001b[0;32m    218\u001b[0m \u001b[1;33m\u001b[0m\u001b[0m\n\u001b[0;32m    219\u001b[0m                 \u001b[0mouts\u001b[0m \u001b[1;33m=\u001b[0m \u001b[0mto_list\u001b[0m\u001b[1;33m(\u001b[0m\u001b[0mouts\u001b[0m\u001b[1;33m)\u001b[0m\u001b[1;33m\u001b[0m\u001b[0m\n",
      "\u001b[1;32m~\\AppData\\Roaming\\Python\\Python36\\site-packages\\keras\\engine\\training.py\u001b[0m in \u001b[0;36mtrain_on_batch\u001b[1;34m(self, x, y, sample_weight, class_weight)\u001b[0m\n\u001b[0;32m   1215\u001b[0m             \u001b[0mins\u001b[0m \u001b[1;33m=\u001b[0m \u001b[0mx\u001b[0m \u001b[1;33m+\u001b[0m \u001b[0my\u001b[0m \u001b[1;33m+\u001b[0m \u001b[0msample_weights\u001b[0m\u001b[1;33m\u001b[0m\u001b[0m\n\u001b[0;32m   1216\u001b[0m         \u001b[0mself\u001b[0m\u001b[1;33m.\u001b[0m\u001b[0m_make_train_function\u001b[0m\u001b[1;33m(\u001b[0m\u001b[1;33m)\u001b[0m\u001b[1;33m\u001b[0m\u001b[0m\n\u001b[1;32m-> 1217\u001b[1;33m         \u001b[0moutputs\u001b[0m \u001b[1;33m=\u001b[0m \u001b[0mself\u001b[0m\u001b[1;33m.\u001b[0m\u001b[0mtrain_function\u001b[0m\u001b[1;33m(\u001b[0m\u001b[0mins\u001b[0m\u001b[1;33m)\u001b[0m\u001b[1;33m\u001b[0m\u001b[0m\n\u001b[0m\u001b[0;32m   1218\u001b[0m         \u001b[1;32mreturn\u001b[0m \u001b[0munpack_singleton\u001b[0m\u001b[1;33m(\u001b[0m\u001b[0moutputs\u001b[0m\u001b[1;33m)\u001b[0m\u001b[1;33m\u001b[0m\u001b[0m\n\u001b[0;32m   1219\u001b[0m \u001b[1;33m\u001b[0m\u001b[0m\n",
      "\u001b[1;32m~\\AppData\\Roaming\\Python\\Python36\\site-packages\\keras\\backend\\tensorflow_backend.py\u001b[0m in \u001b[0;36m__call__\u001b[1;34m(self, inputs)\u001b[0m\n\u001b[0;32m   2713\u001b[0m                 \u001b[1;32mreturn\u001b[0m \u001b[0mself\u001b[0m\u001b[1;33m.\u001b[0m\u001b[0m_legacy_call\u001b[0m\u001b[1;33m(\u001b[0m\u001b[0minputs\u001b[0m\u001b[1;33m)\u001b[0m\u001b[1;33m\u001b[0m\u001b[0m\n\u001b[0;32m   2714\u001b[0m \u001b[1;33m\u001b[0m\u001b[0m\n\u001b[1;32m-> 2715\u001b[1;33m             \u001b[1;32mreturn\u001b[0m \u001b[0mself\u001b[0m\u001b[1;33m.\u001b[0m\u001b[0m_call\u001b[0m\u001b[1;33m(\u001b[0m\u001b[0minputs\u001b[0m\u001b[1;33m)\u001b[0m\u001b[1;33m\u001b[0m\u001b[0m\n\u001b[0m\u001b[0;32m   2716\u001b[0m         \u001b[1;32melse\u001b[0m\u001b[1;33m:\u001b[0m\u001b[1;33m\u001b[0m\u001b[0m\n\u001b[0;32m   2717\u001b[0m             \u001b[1;32mif\u001b[0m \u001b[0mpy_any\u001b[0m\u001b[1;33m(\u001b[0m\u001b[0mis_tensor\u001b[0m\u001b[1;33m(\u001b[0m\u001b[0mx\u001b[0m\u001b[1;33m)\u001b[0m \u001b[1;32mfor\u001b[0m \u001b[0mx\u001b[0m \u001b[1;32min\u001b[0m \u001b[0minputs\u001b[0m\u001b[1;33m)\u001b[0m\u001b[1;33m:\u001b[0m\u001b[1;33m\u001b[0m\u001b[0m\n",
      "\u001b[1;32m~\\AppData\\Roaming\\Python\\Python36\\site-packages\\keras\\backend\\tensorflow_backend.py\u001b[0m in \u001b[0;36m_call\u001b[1;34m(self, inputs)\u001b[0m\n\u001b[0;32m   2673\u001b[0m             \u001b[0mfetched\u001b[0m \u001b[1;33m=\u001b[0m \u001b[0mself\u001b[0m\u001b[1;33m.\u001b[0m\u001b[0m_callable_fn\u001b[0m\u001b[1;33m(\u001b[0m\u001b[1;33m*\u001b[0m\u001b[0marray_vals\u001b[0m\u001b[1;33m,\u001b[0m \u001b[0mrun_metadata\u001b[0m\u001b[1;33m=\u001b[0m\u001b[0mself\u001b[0m\u001b[1;33m.\u001b[0m\u001b[0mrun_metadata\u001b[0m\u001b[1;33m)\u001b[0m\u001b[1;33m\u001b[0m\u001b[0m\n\u001b[0;32m   2674\u001b[0m         \u001b[1;32melse\u001b[0m\u001b[1;33m:\u001b[0m\u001b[1;33m\u001b[0m\u001b[0m\n\u001b[1;32m-> 2675\u001b[1;33m             \u001b[0mfetched\u001b[0m \u001b[1;33m=\u001b[0m \u001b[0mself\u001b[0m\u001b[1;33m.\u001b[0m\u001b[0m_callable_fn\u001b[0m\u001b[1;33m(\u001b[0m\u001b[1;33m*\u001b[0m\u001b[0marray_vals\u001b[0m\u001b[1;33m)\u001b[0m\u001b[1;33m\u001b[0m\u001b[0m\n\u001b[0m\u001b[0;32m   2676\u001b[0m         \u001b[1;32mreturn\u001b[0m \u001b[0mfetched\u001b[0m\u001b[1;33m[\u001b[0m\u001b[1;33m:\u001b[0m\u001b[0mlen\u001b[0m\u001b[1;33m(\u001b[0m\u001b[0mself\u001b[0m\u001b[1;33m.\u001b[0m\u001b[0moutputs\u001b[0m\u001b[1;33m)\u001b[0m\u001b[1;33m]\u001b[0m\u001b[1;33m\u001b[0m\u001b[0m\n\u001b[0;32m   2677\u001b[0m \u001b[1;33m\u001b[0m\u001b[0m\n",
      "\u001b[1;32m~\\AppData\\Roaming\\Python\\Python36\\site-packages\\tensorflow\\python\\client\\session.py\u001b[0m in \u001b[0;36m__call__\u001b[1;34m(self, *args)\u001b[0m\n\u001b[0;32m   1449\u001b[0m         \u001b[1;32mif\u001b[0m \u001b[0mself\u001b[0m\u001b[1;33m.\u001b[0m\u001b[0m_session\u001b[0m\u001b[1;33m.\u001b[0m\u001b[0m_created_with_new_api\u001b[0m\u001b[1;33m:\u001b[0m\u001b[1;33m\u001b[0m\u001b[0m\n\u001b[0;32m   1450\u001b[0m           return tf_session.TF_SessionRunCallable(\n\u001b[1;32m-> 1451\u001b[1;33m               self._session._session, self._handle, args, status, None)\n\u001b[0m\u001b[0;32m   1452\u001b[0m         \u001b[1;32melse\u001b[0m\u001b[1;33m:\u001b[0m\u001b[1;33m\u001b[0m\u001b[0m\n\u001b[0;32m   1453\u001b[0m           return tf_session.TF_DeprecatedSessionRunCallable(\n",
      "\u001b[1;31mKeyboardInterrupt\u001b[0m: "
     ]
    }
   ],
   "source": [
    "model_dict = {}\n",
    "model_count = 0\n",
    "for train_index, test_index in strat_cv.split(imgs, labels):\n",
    "    model_count += 1\n",
    "    \n",
    "    curr_labels = np.array([[1,0] if label is 'Hunter' else [0,1] for label in labels])\n",
    "    \n",
    "    x_train = imgs[train_index,:,:]\n",
    "    x_test = imgs[test_index,:,:]\n",
    "    \n",
    "    y_train = curr_labels[train_index,:]\n",
    "    y_test = curr_labels[test_index,:]\n",
    "    \n",
    "    datagen.fit(x_train)\n",
    "\n",
    "    model = initialize_model()\n",
    "    \n",
    "    callbacks = []\n",
    "    callbacks.append(ReduceLROnPlateau(monitor='val_loss', factor=0.5,\n",
    "                                       patience=15, verbose=1, mode='auto',\n",
    "                                       min_delta=0.0001, cooldown=0, min_lr=0))\n",
    "\n",
    "    hist = model.fit_generator(datagen.flow(x_train, y_train,\n",
    "                                     batch_size=batch_size),\n",
    "                        steps_per_epoch=x_train.shape[0] // batch_size,\n",
    "                        epochs=epochs,\n",
    "                        validation_data=(x_test, y_test),verbose=1,\n",
    "                        callbacks=callbacks)\n",
    "    # Store models\n",
    "    model_dict[model_count] = model\n",
    "    \n",
    "    "
   ]
  },
  {
   "cell_type": "markdown",
   "metadata": {},
   "source": [
    "### Utilize transfer learning"
   ]
  },
  {
   "cell_type": "code",
   "execution_count": 5,
   "metadata": {
    "ExecuteTime": {
     "end_time": "2019-12-09T00:35:55.747410Z",
     "start_time": "2019-12-09T00:35:54.283335Z"
    }
   },
   "outputs": [
    {
     "name": "stdout",
     "output_type": "stream",
     "text": [
      "_________________________________________________________________\n",
      "Layer (type)                 Output Shape              Param #   \n",
      "=================================================================\n",
      "input_layer (Conv2D)         (None, 100, 100, 256)     62464     \n",
      "_________________________________________________________________\n",
      "max_pooling2d_22 (MaxPooling (None, 33, 33, 256)       0         \n",
      "_________________________________________________________________\n",
      "conv2d_20 (Conv2D)           (None, 33, 33, 128)       1605760   \n",
      "_________________________________________________________________\n",
      "max_pooling2d_23 (MaxPooling (None, 16, 16, 128)       0         \n",
      "_________________________________________________________________\n",
      "conv2d_21 (Conv2D)           (None, 16, 16, 64)        204864    \n",
      "_________________________________________________________________\n",
      "max_pooling2d_24 (MaxPooling (None, 8, 8, 64)          0         \n",
      "_________________________________________________________________\n",
      "conv2d_22 (Conv2D)           (None, 8, 8, 32)          18464     \n",
      "_________________________________________________________________\n",
      "max_pooling2d_25 (MaxPooling (None, 8, 8, 32)          0         \n",
      "_________________________________________________________________\n",
      "conv2d_23 (Conv2D)           (None, 8, 8, 16)          528       \n",
      "_________________________________________________________________\n",
      "max_pooling2d_26 (MaxPooling (None, 8, 8, 16)          0         \n",
      "_________________________________________________________________\n",
      "flatten_5 (Flatten)          (None, 1024)              0         \n",
      "_________________________________________________________________\n",
      "dense_8 (Dense)              (None, 128)               131200    \n",
      "_________________________________________________________________\n",
      "dropout_5 (Dropout)          (None, 128)               0         \n",
      "_________________________________________________________________\n",
      "dense_9 (Dense)              (None, 102)               13158     \n",
      "=================================================================\n",
      "Total params: 2,036,438\n",
      "Trainable params: 2,036,438\n",
      "Non-trainable params: 0\n",
      "_________________________________________________________________\n"
     ]
    }
   ],
   "source": [
    "filepath = \"caltech_101_raw_3_channel_bigger_conv.h5\"\n",
    "model = load_model(filepath)\n",
    "\n",
    "model.summary()\n"
   ]
  },
  {
   "cell_type": "code",
   "execution_count": 6,
   "metadata": {
    "ExecuteTime": {
     "end_time": "2019-12-09T00:35:55.779238Z",
     "start_time": "2019-12-09T00:35:55.767383Z"
    }
   },
   "outputs": [],
   "source": [
    "for i in range(4):\n",
    "    model.pop()"
   ]
  },
  {
   "cell_type": "code",
   "execution_count": 7,
   "metadata": {
    "ExecuteTime": {
     "end_time": "2019-12-09T00:35:55.853638Z",
     "start_time": "2019-12-09T00:35:55.813694Z"
    }
   },
   "outputs": [
    {
     "name": "stdout",
     "output_type": "stream",
     "text": [
      "_________________________________________________________________\n",
      "Layer (type)                 Output Shape              Param #   \n",
      "=================================================================\n",
      "input_layer (Conv2D)         (None, 100, 100, 256)     62464     \n",
      "_________________________________________________________________\n",
      "max_pooling2d_22 (MaxPooling (None, 33, 33, 256)       0         \n",
      "_________________________________________________________________\n",
      "conv2d_20 (Conv2D)           (None, 33, 33, 128)       1605760   \n",
      "_________________________________________________________________\n",
      "max_pooling2d_23 (MaxPooling (None, 16, 16, 128)       0         \n",
      "_________________________________________________________________\n",
      "conv2d_21 (Conv2D)           (None, 16, 16, 64)        204864    \n",
      "_________________________________________________________________\n",
      "max_pooling2d_24 (MaxPooling (None, 8, 8, 64)          0         \n",
      "_________________________________________________________________\n",
      "conv2d_22 (Conv2D)           (None, 8, 8, 32)          18464     \n",
      "_________________________________________________________________\n",
      "max_pooling2d_25 (MaxPooling (None, 8, 8, 32)          0         \n",
      "_________________________________________________________________\n",
      "conv2d_23 (Conv2D)           (None, 8, 8, 16)          528       \n",
      "_________________________________________________________________\n",
      "max_pooling2d_26 (MaxPooling (None, 8, 8, 16)          0         \n",
      "=================================================================\n",
      "Total params: 2,036,438\n",
      "Trainable params: 2,036,438\n",
      "Non-trainable params: 0\n",
      "_________________________________________________________________\n"
     ]
    },
    {
     "name": "stderr",
     "output_type": "stream",
     "text": [
      "C:\\Users\\gjber\\AppData\\Roaming\\Python\\Python36\\site-packages\\keras\\engine\\training.py:490: UserWarning: Discrepancy between trainable weights and collected trainable weights, did you set `model.trainable` without calling `model.compile` after ?\n",
      "  'Discrepancy between trainable weights and collected trainable'\n"
     ]
    }
   ],
   "source": [
    "model.summary()"
   ]
  },
  {
   "cell_type": "code",
   "execution_count": 10,
   "metadata": {
    "ExecuteTime": {
     "end_time": "2019-12-09T00:38:57.077987Z",
     "start_time": "2019-12-09T00:38:57.069596Z"
    }
   },
   "outputs": [
    {
     "data": {
      "text/plain": [
       "369"
      ]
     },
     "execution_count": 10,
     "metadata": {},
     "output_type": "execute_result"
    }
   ],
   "source": [
    "len(imgs)"
   ]
  },
  {
   "cell_type": "code",
   "execution_count": 9,
   "metadata": {
    "ExecuteTime": {
     "end_time": "2019-12-09T00:37:48.950996Z",
     "start_time": "2019-12-09T00:37:46.308078Z"
    }
   },
   "outputs": [
    {
     "data": {
      "image/png": "[encoded data removed]",
      "text/plain": [
       "<Figure size 432x288 with 1 Axes>"
      ]
     },
     "metadata": {
      "needs_background": "light"
     },
     "output_type": "display_data"
    }
   ],
   "source": [
    "# trans_imgs = model.predict(imgs)\n",
    "\n",
    "pca_imgs = imgs.reshape(len(imgs),-1)\n",
    "\n",
    "from sklearn.decomposition import PCA\n",
    "pca = PCA(n_components=2)\n",
    "pca_imgs = pca.fit_transform(pca_imgs)\n",
    "\n",
    "import matplotlib.patches as mpatches\n",
    "alex = mpatches.Patch(color='blue', label='Alex')\n",
    "hunter = mpatches.Patch(color='red', label='Hunter')\n",
    "\n",
    "a = plt.scatter(pca_imgs[:,0],pca_imgs[:,1],\n",
    "            c=['red' if label=='Hunter' else 'blue' for label in labels])\n",
    "\n",
    "plt.legend(handles=[alex,hunter])\n",
    "plt.title('PCA Dimensional Reduction applied to Raw 3 Channel Images')\n",
    "plt.savefig('raw_dimension_reduction')"
   ]
  },
  {
   "cell_type": "code",
   "execution_count": 8,
   "metadata": {
    "ExecuteTime": {
     "end_time": "2019-12-09T00:36:33.768753Z",
     "start_time": "2019-12-09T00:35:59.586380Z"
    }
   },
   "outputs": [
    {
     "data": {
      "image/png": "[encoded data removed]",
      "text/plain": [
       "<Figure size 432x288 with 1 Axes>"
      ]
     },
     "metadata": {
      "needs_background": "light"
     },
     "output_type": "display_data"
    }
   ],
   "source": [
    "trans_imgs = model.predict(imgs)\n",
    "\n",
    "trans_imgs = trans_imgs.reshape(369,-1)\n",
    "\n",
    "from sklearn.decomposition import PCA\n",
    "pca = PCA(n_components=2)\n",
    "pca_trans_imgs = pca.fit_transform(trans_imgs)\n",
    "\n",
    "import matplotlib.patches as mpatches\n",
    "alex = mpatches.Patch(color='blue', label='Alex')\n",
    "hunter = mpatches.Patch(color='red', label='Hunter')\n",
    "\n",
    "a = plt.scatter(pca_trans_imgs[:,0],pca_trans_imgs[:,1],\n",
    "            c=['red' if label=='Hunter' else 'blue' for label in labels])\n",
    "\n",
    "plt.legend(handles=[alex,hunter])\n",
    "plt.title('PCA Dimensional Reduction applied to Raw Caltech Model Output')\n",
    "plt.savefig('Caltech_dimension_reduction')"
   ]
  },
  {
   "cell_type": "code",
   "execution_count": 8,
   "metadata": {
    "ExecuteTime": {
     "end_time": "2019-12-08T01:15:27.749165Z",
     "start_time": "2019-12-08T01:15:27.743689Z"
    }
   },
   "outputs": [],
   "source": [
    "def initialize_transfer_model():\n",
    "    filepath = \"caltech_101_raw_3_channel_bigger_conv.h5\"\n",
    "    trans_model = load_model(filepath)\n",
    "    \n",
    "    for i in range(4):\n",
    "        trans_model.pop()\n",
    "        \n",
    "    # Allow no weight adjustments for the pretrained layers\n",
    "    for layer in trans_model.layers:\n",
    "        layer.trainable = False\n",
    "        \n",
    "    trans_model.add(Flatten())\n",
    "#     trans_model.add(Dense(128,activation='relu', kernel_initializer=glorot))\n",
    "#     transfer_model.add(Dropout(.3))\n",
    "    # Classification Layer\n",
    "    trans_model.add(Dense(num_classes, activation='softmax'))\n",
    "    \n",
    "    return trans_model"
   ]
  },
  {
   "cell_type": "code",
   "execution_count": 9,
   "metadata": {
    "ExecuteTime": {
     "end_time": "2019-12-08T01:15:29.413679Z",
     "start_time": "2019-12-08T01:15:29.407695Z"
    }
   },
   "outputs": [],
   "source": [
    "#data augmentation\n",
    "datagen_transfer = ImageDataGenerator(\n",
    "    featurewise_center=False,  # set input mean to 0 over the dataset\n",
    "    samplewise_center=False,  # set each sample mean to 0\n",
    "    featurewise_std_normalization=False,  # divide inputs by std of the dataset\n",
    "    samplewise_std_normalization=False,  # divide each input by its std\n",
    "    zca_whitening=False,  # apply ZCA whitening\n",
    "    rotation_range=10,  # randomly rotate images in the range (degrees, 0 to 180)\n",
    "    width_shift_range=0,  # randomly shift images horizontally (fraction of total width)\n",
    "    height_shift_range=.15,  # randomly shift images vertically (fraction of total height)\n",
    "    horizontal_flip=True,  # randomly flip images\n",
    "    vertical_flip=False)  # randomly flip images"
   ]
  },
  {
   "cell_type": "code",
   "execution_count": 10,
   "metadata": {
    "ExecuteTime": {
     "end_time": "2019-12-08T01:31:27.923867Z",
     "start_time": "2019-12-08T01:15:31.104327Z"
    }
   },
   "outputs": [
    {
     "name": "stdout",
     "output_type": "stream",
     "text": [
      "Epoch 1/2\n",
      "166/166 [==============================] - 39s 235ms/step - loss: 0.0380 - acc: 0.9849 - val_loss: 0.0022 - val_acc: 1.0000\n",
      "Epoch 2/2\n",
      "166/166 [==============================] - 47s 281ms/step - loss: 0.0086 - acc: 0.9970 - val_loss: 0.0012 - val_acc: 1.0000\n",
      "Epoch 1/2\n",
      "166/166 [==============================] - 42s 253ms/step - loss: 0.0315 - acc: 0.9880 - val_loss: 0.0021 - val_acc: 1.0000\n",
      "Epoch 2/2\n",
      "166/166 [==============================] - 48s 289ms/step - loss: 0.0042 - acc: 1.0000 - val_loss: 0.0023 - val_acc: 1.0000\n",
      "Epoch 1/2\n",
      "166/166 [==============================] - 47s 283ms/step - loss: 0.0328 - acc: 0.9880 - val_loss: 0.0023 - val_acc: 1.0000\n",
      "Epoch 2/2\n",
      "166/166 [==============================] - 42s 255ms/step - loss: 0.0040 - acc: 1.0000 - val_loss: 0.0018 - val_acc: 1.0000\n",
      "Epoch 1/2\n",
      "166/166 [==============================] - 54s 328ms/step - loss: 0.0383 - acc: 0.9880 - val_loss: 0.0018 - val_acc: 1.0000\n",
      "Epoch 2/2\n",
      "166/166 [==============================] - 45s 273ms/step - loss: 0.0060 - acc: 0.9970 - val_loss: 0.0012 - val_acc: 1.0000\n",
      "Epoch 1/2\n",
      "166/166 [==============================] - 48s 287ms/step - loss: 0.0319 - acc: 0.9910 - val_loss: 0.0020 - val_acc: 1.0000\n",
      "Epoch 2/2\n",
      "166/166 [==============================] - 60s 360ms/step - loss: 0.0079 - acc: 0.9970 - val_loss: 0.0012 - val_acc: 1.0000\n",
      "Epoch 1/2\n",
      "166/166 [==============================] - 48s 292ms/step - loss: 0.0372 - acc: 0.9789 - val_loss: 0.0029 - val_acc: 1.0000\n",
      "Epoch 2/2\n",
      "166/166 [==============================] - 45s 274ms/step - loss: 0.0076 - acc: 0.9970 - val_loss: 0.0022 - val_acc: 1.0000\n",
      "Epoch 1/2\n",
      "166/166 [==============================] - 43s 260ms/step - loss: 0.0334 - acc: 0.9910 - val_loss: 7.8790e-04 - val_acc: 1.0000\n",
      "Epoch 2/2\n",
      "166/166 [==============================] - 48s 291ms/step - loss: 0.0052 - acc: 1.0000 - val_loss: 6.2963e-04 - val_acc: 1.0000\n",
      "Epoch 1/2\n",
      "166/166 [==============================] - 43s 261ms/step - loss: 0.0379 - acc: 0.9849 - val_loss: 0.0171 - val_acc: 1.0000\n",
      "Epoch 2/2\n",
      "166/166 [==============================] - 46s 274ms/step - loss: 0.0036 - acc: 1.0000 - val_loss: 0.0287 - val_acc: 0.9730\n",
      "Epoch 1/2\n",
      "166/166 [==============================] - 50s 300ms/step - loss: 0.0369 - acc: 0.9849 - val_loss: 0.0011 - val_acc: 1.0000\n",
      "Epoch 2/2\n",
      "166/166 [==============================] - 43s 260ms/step - loss: 0.0051 - acc: 0.9970 - val_loss: 9.4531e-04 - val_acc: 1.0000\n",
      "Epoch 1/2\n",
      "166/166 [==============================] - 42s 251ms/step - loss: 0.0412 - acc: 0.9789 - val_loss: 0.0014 - val_acc: 1.0000\n",
      "Epoch 2/2\n",
      "166/166 [==============================] - 39s 235ms/step - loss: 0.0053 - acc: 0.9970 - val_loss: 7.4743e-04 - val_acc: 1.0000\n"
     ]
    }
   ],
   "source": [
    "trans_model_dict = {}\n",
    "trans_model_hist_dict = {}\n",
    "model_count = 0\n",
    "for train_index, test_index in strat_cv.split(imgs, labels):\n",
    "    model_count += 1\n",
    "    \n",
    "    curr_labels = np.array([[1,0] if label is 'Hunter' else [0,1] for label in labels])\n",
    "\n",
    "    x_train = imgs[train_index,:,:]\n",
    "    x_test = imgs[test_index,:,:]\n",
    "    \n",
    "    y_train = curr_labels[train_index,:]\n",
    "    y_test = curr_labels[test_index,:]\n",
    "\n",
    "    datagen_transfer.fit(x_train)\n",
    "\n",
    "    transfer_model = initialize_transfer_model()\n",
    "    sgd = SGD(lr=0.01, decay=1e-6, momentum=0.9, nesterov=True)\n",
    "    transfer_model.compile(loss='categorical_crossentropy', optimizer=sgd, metrics=['accuracy'])\n",
    "\n",
    "    \n",
    "    callbacks = []\n",
    "#     callbacks.append(ReduceLROnPlateau(monitor='val_acc', factor=0.5,\n",
    "#                                        patience=2, verbose=1, mode='auto',\n",
    "#                                        min_delta=0.03, cooldown=0, min_lr=0))\n",
    "#     es = EarlyStopping(monitor='val_acc', mode='min', min_delta=.001, patience=3)\n",
    "#     callbacks.append(es)\n",
    "\n",
    "    test_datagen = ImageDataGenerator()\n",
    "    test_datagen.fit(x_test)\n",
    "\n",
    "    batch = 2\n",
    "    hist = transfer_model.fit_generator(datagen_transfer.flow(x_train, y_train,\n",
    "                                     batch_size=batch),\n",
    "                        steps_per_epoch=x_train.shape[0] // batch,\n",
    "                        epochs=2,\n",
    "                            validation_data=test_datagen.flow(x_test, y_test),verbose=1,\n",
    "                        callbacks=callbacks)\n",
    "    # Store models\n",
    "    trans_model_dict[model_count] = transfer_model\n",
    "    trans_model_hist_dict[model_count] = hist"
   ]
  },
  {
   "cell_type": "code",
   "execution_count": 20,
   "metadata": {
    "ExecuteTime": {
     "end_time": "2019-12-05T03:51:25.189139Z",
     "start_time": "2019-12-05T03:51:25.012516Z"
    }
   },
   "outputs": [
    {
     "data": {
      "image/png": "[encoded data removed]",
      "text/plain": [
       "<Figure size 432x288 with 1 Axes>"
      ]
     },
     "metadata": {
      "needs_background": "light"
     },
     "output_type": "display_data"
    }
   ],
   "source": [
    "for hist in trans_model_hist_dict.values():\n",
    "    plt.plot(hist.history['val_acc'])\n",
    "    plt.title('Validation Accuracy')"
   ]
  },
  {
   "cell_type": "code",
   "execution_count": 21,
   "metadata": {
    "ExecuteTime": {
     "end_time": "2019-12-05T03:51:40.175165Z",
     "start_time": "2019-12-05T03:51:40.007805Z"
    }
   },
   "outputs": [
    {
     "data": {
      "image/png": "[encoded data removed]",
      "text/plain": [
       "<Figure size 432x288 with 1 Axes>"
      ]
     },
     "metadata": {
      "needs_background": "light"
     },
     "output_type": "display_data"
    }
   ],
   "source": [
    "for hist in trans_model_hist_dict.values():\n",
    "    plt.plot(hist.history['acc'])\n",
    "    plt.title(\"Training Accuracy\")"
   ]
  },
  {
   "cell_type": "markdown",
   "metadata": {},
   "source": [
    "Evaluate"
   ]
  },
  {
   "cell_type": "code",
   "execution_count": 42,
   "metadata": {
    "ExecuteTime": {
     "end_time": "2019-11-29T20:15:19.671919Z",
     "start_time": "2019-11-29T20:15:01.194695Z"
    }
   },
   "outputs": [],
   "source": [
    "trans_pred = []\n",
    "reg_pred= []\n",
    "for img in x_test:\n",
    "    trans_pred.append(trans_model.predict(np.expand_dims(img, axis=0)))\n",
    "    reg_pred.append(model.predict(np.expand_dims(img, axis=0)))\n",
    "\n",
    "reg_pred = [\"Hunter\" if x[0][0] > x[0][1] else \"Alex\" for x in reg_pred]\n",
    "trans_pred = [\"Hunter\" if x[0][0] > x[0][1] else \"Alex\" for x in trans_pred]\n",
    "\n",
    "y_test = [\"Hunter\" if x[0] > x[1] else \"Alex\" for x in y_test]"
   ]
  },
  {
   "cell_type": "code",
   "execution_count": 43,
   "metadata": {
    "ExecuteTime": {
     "end_time": "2019-11-29T20:15:20.208319Z",
     "start_time": "2019-11-29T20:15:20.190547Z"
    }
   },
   "outputs": [
    {
     "name": "stdout",
     "output_type": "stream",
     "text": [
      "Model with No transfer learning\n",
      "             precision    recall  f1-score   support\n",
      "\n",
      "       Alex       1.00      1.00      1.00       259\n",
      "\n",
      "avg / total       1.00      1.00      1.00       259\n",
      "\n",
      "Model with transfer learning\n",
      "             precision    recall  f1-score   support\n",
      "\n",
      "       Alex       1.00      1.00      1.00       259\n",
      "\n",
      "avg / total       1.00      1.00      1.00       259\n",
      "\n"
     ]
    }
   ],
   "source": [
    "from sklearn.metrics import classification_report\n",
    "print(\"Model with No transfer learning\")\n",
    "print(classification_report(y_test, reg_pred))\n",
    "print(\"Model with transfer learning\")\n",
    "print(classification_report(y_test, trans_pred))"
   ]
  },
  {
   "cell_type": "code",
   "execution_count": 44,
   "metadata": {
    "ExecuteTime": {
     "end_time": "2019-11-29T20:17:42.899093Z",
     "start_time": "2019-11-29T20:17:42.707781Z"
    }
   },
   "outputs": [
    {
     "data": {
      "image/png": "[encoded data removed]",
      "text/plain": [
       "<Figure size 432x288 with 1 Axes>"
      ]
     },
     "metadata": {
      "needs_background": "light"
     },
     "output_type": "display_data"
    }
   ],
   "source": [
    "import matplotlib.pyplot as plt\n",
    "\n",
    "\n",
    "# Plot training & validation accuracy values\n",
    "plt.plot(hist.history['acc'])\n",
    "plt.plot(hist.history['val_acc'])\n",
    "plt.title('Model accuracy')\n",
    "plt.ylabel('Accuracy')\n",
    "plt.xlabel('Epoch')\n",
    "plt.legend(['Train', 'Test'], loc='upper left')\n",
    "plt.show()"
   ]
  },
  {
   "cell_type": "code",
   "execution_count": 45,
   "metadata": {
    "ExecuteTime": {
     "end_time": "2019-11-29T20:18:07.927122Z",
     "start_time": "2019-11-29T20:18:07.771830Z"
    }
   },
   "outputs": [
    {
     "data": {
      "image/png": "[encoded data removed]",
      "text/plain": [
       "<Figure size 432x288 with 1 Axes>"
      ]
     },
     "metadata": {
      "needs_background": "light"
     },
     "output_type": "display_data"
    }
   ],
   "source": [
    "# Plot training & validation loss values\n",
    "plt.plot(hist.history['loss'])\n",
    "plt.plot(hist.history['val_loss'])\n",
    "plt.title('Model loss')\n",
    "plt.ylabel('Loss')\n",
    "plt.xlabel('Epoch')\n",
    "plt.legend(['Train', 'Test'], loc='upper left')\n",
    "plt.show()"
   ]
  }
 ],
 "metadata": {
  "kernelspec": {
   "display_name": "Python 3",
   "language": "python",
   "name": "python3"
  },
  "language_info": {
   "codemirror_mode": {
    "name": "ipython",
    "version": 3
   },
   "file_extension": ".py",
   "mimetype": "text/x-python",
   "name": "python",
   "nbconvert_exporter": "python",
   "pygments_lexer": "ipython3",
   "version": "3.6.5"
  },
  "toc": {
   "base_numbering": 1,
   "nav_menu": {},
   "number_sections": true,
   "sideBar": true,
   "skip_h1_title": false,
   "title_cell": "Table of Contents",
   "title_sidebar": "Contents",
   "toc_cell": false,
   "toc_position": {},
   "toc_section_display": true,
   "toc_window_display": false
  },
  "varInspector": {
   "cols": {
    "lenName": 16,
    "lenType": 16,
    "lenVar": 40
   },
   "kernels_config": {
    "python": {
     "delete_cmd_postfix": "",
     "delete_cmd_prefix": "del ",
     "library": "var_list.py",
     "varRefreshCmd": "print(var_dic_list())"
    },
    "r": {
     "delete_cmd_postfix": ") ",
     "delete_cmd_prefix": "rm(",
     "library": "var_list.r",
     "varRefreshCmd": "cat(var_dic_list()) "
    }
   },
   "position": {
    "height": "500.573px",
    "left": "1001.34px",
    "right": "20px",
    "top": "126.994px",
    "width": "349.983px"
   },
   "types_to_exclude": [
    "module",
    "function",
    "builtin_function_or_method",
    "instance",
    "_Feature"
   ],
   "window_display": false
  }
 },
 "nbformat": 4,
 "nbformat_minor": 2
}
