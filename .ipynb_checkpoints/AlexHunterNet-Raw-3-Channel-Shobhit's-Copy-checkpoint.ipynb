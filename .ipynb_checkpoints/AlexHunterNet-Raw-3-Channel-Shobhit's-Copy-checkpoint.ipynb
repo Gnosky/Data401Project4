{
 "cells": [
  {
   "cell_type": "code",
   "execution_count": 107,
   "metadata": {
    "ExecuteTime": {
     "end_time": "2019-11-25T18:53:51.647965Z",
     "start_time": "2019-11-25T18:53:51.639989Z"
    }
   },
   "outputs": [],
   "source": [
    "import sys\n",
    "# sys.path.append('./keras-spp/')\n",
    "# from spp.SpatialPyramidPooling import SpatialPyramidPooling\n",
    "\n",
    "from keras.models import load_model\n",
    "from keras.models import Sequential\n",
    "from keras.layers import Dense, Conv2D, MaxPooling2D, BatchNormalization\n",
    "from keras.layers import Dropout, Flatten, GlobalAveragePooling2D\n",
    "from keras.optimizers import SGD\n",
    "from keras.callbacks import ReduceLROnPlateau\n",
    "import numpy as np\n",
    "import glob\n",
    "import os\n",
    "from scipy.misc import imread, imresize\n",
    "import pandas as pd\n",
    "from sklearn.model_selection import train_test_split\n",
    "from keras.preprocessing.image import ImageDataGenerator\n",
    "from skimage.color import rgb2gray\n",
    "from keras.utils import np_utils\n",
    "import pywt\n",
    "import matplotlib.pyplot as plt\n",
    "import cv2\n",
    "from skimage.transform import resize\n"
   ]
  },
  {
   "cell_type": "markdown",
   "metadata": {},
   "source": [
    "#### Load Data"
   ]
  },
  {
   "cell_type": "code",
   "execution_count": 108,
   "metadata": {
    "ExecuteTime": {
     "end_time": "2019-11-25T19:03:58.143439Z",
     "start_time": "2019-11-25T19:03:50.451513Z"
    }
   },
   "outputs": [
    {
     "name": "stderr",
     "output_type": "stream",
     "text": [
      "/Library/Frameworks/Python.framework/Versions/3.6/lib/python3.6/site-packages/ipykernel_launcher.py:6: DeprecationWarning: `imread` is deprecated!\n",
      "`imread` is deprecated in SciPy 1.0.0, and will be removed in 1.2.0.\n",
      "Use ``imageio.imread`` instead.\n",
      "  \n",
      "/Library/Frameworks/Python.framework/Versions/3.6/lib/python3.6/site-packages/ipykernel_launcher.py:10: DeprecationWarning: `imread` is deprecated!\n",
      "`imread` is deprecated in SciPy 1.0.0, and will be removed in 1.2.0.\n",
      "Use ``imageio.imread`` instead.\n",
      "  # Remove the CWD from sys.path while we load stuff.\n"
     ]
    }
   ],
   "source": [
    "master_folder = '../../Desktop/PhotosDataset'\n",
    "\n",
    "imgs = []\n",
    "labels = []\n",
    "for photo in os.listdir(master_folder+'/Alex'):\n",
    "    img = imread(master_folder+'/Alex/'+photo)\n",
    "    imgs.append(resize(img,(200,200,3)))\n",
    "    labels.append('Alex')\n",
    "for photo in os.listdir(master_folder+'/Hunter'):\n",
    "    img = imread(master_folder+'/Hunter/'+photo)\n",
    "    imgs.append(resize(img,(200,200,3)))\n",
    "    labels.append('Hunter')\n",
    "\n",
    "og_labels = labels.copy()\n",
    "labels = np.array([[1,0] if label is 'Hunter' else [0,1] for label in labels])\n",
    "\n"
   ]
  },
  {
   "cell_type": "markdown",
   "metadata": {},
   "source": [
    "#### Massage Data"
   ]
  },
  {
   "cell_type": "code",
   "execution_count": 109,
   "metadata": {
    "ExecuteTime": {
     "end_time": "2019-11-25T19:04:03.952920Z",
     "start_time": "2019-11-25T19:04:03.617848Z"
    }
   },
   "outputs": [
    {
     "name": "stdout",
     "output_type": "stream",
     "text": [
      "0\n",
      "50\n",
      "100\n",
      "150\n",
      "200\n",
      "250\n",
      "300\n",
      "350\n",
      "(200, 102, 8)\n"
     ]
    },
    {
     "data": {
      "text/plain": [
       "(221, 200, 102, 8)"
      ]
     },
     "execution_count": 109,
     "metadata": {},
     "output_type": "execute_result"
    }
   ],
   "source": [
    "# Take out alpha component of image\n",
    "#imgs = [img[:,:,[0,1,2]] for img in imgs]\n",
    "\n",
    "wavelet_imgs = []\n",
    "for i, img in enumerate(imgs):\n",
    "    \n",
    "    if i % 50 == 0:\n",
    "        print(i)\n",
    "    coeffs2 = pywt.dwt2(img, 'bior1.3')\n",
    "    \n",
    "    wavelet_imgs.append(coeffs2[1][:2])\n",
    "\n",
    "for i,stack in enumerate(wavelet_imgs):\n",
    "    stack = np.dstack(stack)\n",
    "    #print(stack)\n",
    "    wavelet_imgs[i] = stack\n",
    "print(wavelet_imgs[0].shape)\n",
    "\n",
    "x_train, x_test, y_train, y_test = train_test_split(wavelet_imgs, labels, test_size=.2)\n",
    "x_train = np.stack(x_train,axis=0)\n",
    "x_test = np.stack(x_test,axis=0)\n",
    "\n",
    "num_classes = 2\n",
    "# y_train = np_utils.to_categorical(y_train, num_classes)\n",
    "# y_test = np_utils.to_categorical(y_test, num_classes)\n",
    "\n",
    "x_train.shape"
   ]
  },
  {
   "cell_type": "code",
   "execution_count": null,
   "metadata": {
    "ExecuteTime": {
     "end_time": "2019-11-25T19:04:12.209540Z",
     "start_time": "2019-11-25T19:04:12.013950Z"
    }
   },
   "outputs": [],
   "source": []
  },
  {
   "cell_type": "code",
   "execution_count": 162,
   "metadata": {
    "ExecuteTime": {
     "end_time": "2019-11-25T19:04:14.158734Z",
     "start_time": "2019-11-25T19:04:13.882556Z"
    }
   },
   "outputs": [
    {
     "name": "stderr",
     "output_type": "stream",
     "text": [
      "/Library/Frameworks/Python.framework/Versions/3.6/lib/python3.6/site-packages/keras_preprocessing/image/image_data_generator.py:940: UserWarning: Expected input to be images (as Numpy array) following the data format convention \"channels_last\" (channels on axis 3), i.e. expected either 1, 3 or 4 channels on axis 3. However, it was passed an array with shape (221, 200, 102, 8) (8 channels).\n",
      "  ' channels).')\n"
     ]
    }
   ],
   "source": [
    "# # Use a generator to feed data because data images are of different dimensions so a numpy array cant\n",
    "# # be constructed\n",
    "# def generator(x, y):\n",
    "#     while True:\n",
    "#         for i,img in enumerate(x):\n",
    "#             yield np.expand_dims(img,axis=0), np.expand_dims(y[i],axis=0)\n",
    "            \n",
    "\n",
    "            \n",
    "# gen = generator(x_train, y_train)\n",
    "# val_gen = generator(x_test,y_test)\n",
    "num_channels = 8\n",
    "# num_classes = 2\n",
    "#data augmentation\n",
    "datagen = ImageDataGenerator(\n",
    "    featurewise_center=False,  # set input mean to 0 over the dataset\n",
    "    samplewise_center=False,  # set each sample mean to 0\n",
    "    featurewise_std_normalization=False,  # divide inputs by std of the dataset\n",
    "    samplewise_std_normalization=False,  # divide each input by its std\n",
    "    zca_whitening=False,  # apply ZCA whitening\n",
    "    rotation_range=0,  # randomly rotate images in the range (degrees, 0 to 180)\n",
    "    width_shift_range=.2,  # randomly shift images horizontally (fraction of total width)\n",
    "    height_shift_range=.2,  # randomly shift images vertically (fraction of total height)\n",
    "    horizontal_flip=True,  # randomly flip images\n",
    "    vertical_flip=False)  # randomly flip images\n",
    "\n",
    "datagen.fit(x_train)\n",
    "# gen = generator(x_train, y_train)\n",
    "# val_gen = generator(x_test,y_test)\n",
    "batch_size=4\n",
    "epochs=10\n"
   ]
  },
  {
   "cell_type": "code",
   "execution_count": 9,
   "metadata": {},
   "outputs": [],
   "source": [
    "#print(y_train)"
   ]
  },
  {
   "cell_type": "markdown",
   "metadata": {},
   "source": [
    "### Model with no transfer learning"
   ]
  },
  {
   "cell_type": "code",
   "execution_count": 110,
   "metadata": {
    "ExecuteTime": {
     "end_time": "2019-11-25T19:06:53.384248Z",
     "start_time": "2019-11-25T19:04:15.752457Z"
    }
   },
   "outputs": [
    {
     "name": "stdout",
     "output_type": "stream",
     "text": [
      "Epoch 1/5\n",
      "221/221 [==============================] - 9s 40ms/step - loss: 0.7520 - acc: 0.5113\n",
      "Epoch 2/5\n",
      "221/221 [==============================] - 4s 19ms/step - loss: 0.5835 - acc: 0.6652\n",
      "Epoch 3/5\n",
      "221/221 [==============================] - 4s 19ms/step - loss: 0.0754 - acc: 0.9864\n",
      "Epoch 4/5\n",
      "221/221 [==============================] - 4s 19ms/step - loss: 0.0056 - acc: 1.0000\n",
      "Epoch 5/5\n",
      "221/221 [==============================] - 4s 19ms/step - loss: 0.0027 - acc: 1.0000\n"
     ]
    },
    {
     "data": {
      "text/plain": [
       "<keras.callbacks.History at 0x145329e10>"
      ]
     },
     "execution_count": 110,
     "metadata": {},
     "output_type": "execute_result"
    }
   ],
   "source": [
    "model = Sequential()\n",
    "\n",
    "# Note that we leave the image size as None to allow multiple image sizes\n",
    "model.add(Conv2D(96, (7, 7),strides=2, padding='same',\n",
    "                 activation='relu',input_shape=(x_train.shape[1],x_train.shape[2],x_train.shape[3]),\n",
    "                name='input_layer'))\n",
    "model.add(MaxPooling2D((3,3)))\n",
    "\n",
    "model.add(Conv2D(48, (5, 5),strides=1, padding='same',activation='sigmoid'))\n",
    "model.add(MaxPooling2D((3,3)))\n",
    "\n",
    "model.add(Conv2D(24, (3, 3),strides=1, padding='same',activation='sigmoid'))\n",
    "model.add(MaxPooling2D((2,2)))\n",
    "\n",
    "model.add(Conv2D(24, (3, 3),strides=1, padding='same',activation='sigmoid'))\n",
    "model.add(Flatten())\n",
    "# # Spatial Pooling layer to deal with differing image sizes\n",
    "#model.add(SpatialPyramidPooling([6, 3, 2,1]))\n",
    "model.add(Dense(512,activation = 'sigmoid'))\n",
    "model.add(Dense(128,activation='sigmoid'))\n",
    "\n",
    "# Classification layer\n",
    "model.add(Dense(2, activation='softmax'))\n",
    "\n",
    "callbacks = []\n",
    "callbacks.append(ReduceLROnPlateau(monitor='val_loss', factor=0.5,\n",
    "                                   patience=15, verbose=1, mode='auto',\n",
    "                                   min_delta=0.0001, cooldown=0, min_lr=0))\n",
    "# opt = SGD(lr=0.01, decay=1e-6, momentum=0.9, nesterov=True)\n",
    "model.compile(loss='categorical_crossentropy', optimizer='adam', metrics=['accuracy'])\n",
    "\n",
    "\n",
    "# hist = model.fit_generator(datagen.flow(x_train, y_train,\n",
    "#                                  batch_size=batch_size),\n",
    "#                     steps_per_epoch=x_train.shape[0] // batch_size,\n",
    "#                     epochs=epochs,\n",
    "#                     validation_data=(x_test, y_test),verbose=1,\n",
    "#                     callbacks=callbacks)\n",
    "\n",
    "model.fit(x_train,y_train, batch_size = batch_size, epochs = epochs)\n"
   ]
  },
  {
   "cell_type": "markdown",
   "metadata": {},
   "source": [
    "### Utilize transfer learning"
   ]
  },
  {
   "cell_type": "code",
   "execution_count": 171,
   "metadata": {
    "ExecuteTime": {
     "end_time": "2019-11-25T19:10:41.602441Z",
     "start_time": "2019-11-25T19:10:39.456789Z"
    }
   },
   "outputs": [
    {
     "name": "stderr",
     "output_type": "stream",
     "text": [
      "/Library/Frameworks/Python.framework/Versions/3.6/lib/python3.6/site-packages/keras/engine/saving.py:327: UserWarning: Error in loading the saved optimizer state. As a result, your model is starting with a freshly initialized optimizer.\n",
      "  warnings.warn('Error in loading the saved optimizer '\n"
     ]
    }
   ],
   "source": [
    "filepath = \"wavelet_model.h5\"\n",
    "trans_model = load_model(filepath)\n",
    "#print(trans_model.summary())\n",
    "# Allow no weight adjustments for the pretrained layers\n",
    "for layer in trans_model.layers:\n",
    "    layer.trainable = False\n",
    "\n",
    "trans_model.add(Conv2D(32,(2,2)))\n",
    "trans_model.add(MaxPooling2D((1,1)))\n",
    "trans_model.add(Flatten())\n",
    "trans_model.add(Dense(256,activation='relu'))\n",
    "trans_model.add(Dropout(0.35))\n",
    "\n",
    "trans_model.add(Dense(64, activation = 'sigmoid'))\n",
    "#trans_model.add(Dropout(0.3))\n",
    "# Classification Layer\n",
    "trans_model.add(Dense(num_classes, activation='softmax'))"
   ]
  },
  {
   "cell_type": "code",
   "execution_count": null,
   "metadata": {
    "ExecuteTime": {
     "end_time": "2019-11-25T19:11:28.339449Z",
     "start_time": "2019-11-25T19:10:43.133805Z"
    }
   },
   "outputs": [
    {
     "name": "stderr",
     "output_type": "stream",
     "text": [
      "/Library/Frameworks/Python.framework/Versions/3.6/lib/python3.6/site-packages/keras_preprocessing/image/numpy_array_iterator.py:127: UserWarning: NumpyArrayIterator is set to use the data format convention \"channels_last\" (channels on axis 3), i.e. expected either 1, 3, or 4 channels on axis 3. However, it was passed an array with shape (221, 200, 102, 8) (8 channels).\n",
      "  str(self.x.shape[channels_axis]) + ' channels).')\n"
     ]
    },
    {
     "name": "stdout",
     "output_type": "stream",
     "text": [
      "Epoch 1/5\n",
      "55/55 [==============================] - 15s 275ms/step - loss: 0.3610 - acc: 0.8182 - val_loss: 0.7570 - val_acc: 0.5270\n",
      "Epoch 2/5\n",
      "55/55 [==============================] - 8s 154ms/step - loss: 0.2345 - acc: 0.9136 - val_loss: 1.7298 - val_acc: 0.5270\n",
      "Epoch 3/5\n",
      "55/55 [==============================] - 8s 154ms/step - loss: 0.2804 - acc: 0.8954 - val_loss: 0.7065 - val_acc: 0.5270\n",
      "Epoch 4/5\n",
      "55/55 [==============================] - 10s 189ms/step - loss: 0.2924 - acc: 0.8909 - val_loss: 0.6381 - val_acc: 0.5270\n",
      "Epoch 5/5\n",
      "39/55 [====================>.........] - ETA: 1s - loss: 0.3392 - acc: 0.8718"
     ]
    }
   ],
   "source": [
    "callbacks = []\n",
    "callbacks.append(ReduceLROnPlateau(monitor='val_loss', factor=0.5,\n",
    "                                   patience=15, verbose=1, mode='auto',\n",
    "                                   min_delta=0.0001, cooldown=0, min_lr=0))\n",
    "opt = SGD(lr=0.01, decay=1e-6, momentum=0.9, nesterov=True)\n",
    "trans_model.compile(loss='categorical_crossentropy', optimizer='adam', metrics=['accuracy'])\n",
    "\n",
    "\n",
    "epochs = 5\n",
    "# Fit model\n",
    "trans_hist = trans_model.fit_generator(datagen.flow(x_train, y_train,\n",
    "                                 batch_size=batch_size),\n",
    "                    steps_per_epoch=x_train.shape[0] // batch_size,\n",
    "                    epochs=epochs,\n",
    "                    validation_data=(x_test, y_test),verbose=1,\n",
    "                    callbacks=callbacks)\n",
    "\n",
    "#trans_model.fit(x_train,y_train, batch_size = batch_size, epochs =6)"
   ]
  },
  {
   "cell_type": "code",
   "execution_count": null,
   "metadata": {},
   "outputs": [],
   "source": []
  },
  {
   "cell_type": "markdown",
   "metadata": {},
   "source": [
    "Evaluate"
   ]
  },
  {
   "cell_type": "code",
   "execution_count": 156,
   "metadata": {
    "ExecuteTime": {
     "end_time": "2019-11-25T16:27:01.888663Z",
     "start_time": "2019-11-25T16:12:50.812Z"
    }
   },
   "outputs": [
    {
     "name": "stdout",
     "output_type": "stream",
     "text": [
      "['Alex', 'Alex', 'Alex', 'Alex', 'Alex', 'Alex', 'Alex', 'Alex', 'Alex', 'Alex', 'Alex', 'Alex', 'Alex', 'Alex', 'Alex', 'Alex', 'Alex', 'Alex', 'Alex', 'Alex', 'Alex', 'Alex', 'Alex', 'Alex', 'Alex', 'Alex', 'Alex', 'Alex', 'Alex', 'Alex', 'Alex', 'Alex', 'Alex', 'Alex', 'Alex', 'Alex', 'Alex', 'Alex', 'Alex', 'Alex', 'Alex', 'Alex', 'Alex', 'Alex', 'Alex', 'Alex', 'Alex', 'Alex', 'Alex', 'Alex', 'Alex', 'Alex', 'Alex', 'Alex', 'Alex', 'Alex', 'Alex', 'Alex', 'Alex', 'Alex', 'Alex', 'Alex', 'Alex', 'Alex', 'Alex', 'Alex', 'Alex', 'Alex', 'Alex', 'Alex', 'Alex', 'Alex', 'Alex', 'Alex', 'Alex', 'Alex', 'Alex', 'Alex', 'Alex', 'Alex', 'Alex', 'Alex', 'Alex', 'Alex', 'Alex', 'Alex', 'Alex', 'Alex', 'Alex', 'Alex', 'Alex', 'Alex', 'Alex', 'Alex', 'Alex', 'Alex', 'Alex', 'Alex', 'Alex', 'Alex', 'Alex', 'Alex', 'Alex', 'Alex', 'Alex', 'Alex', 'Alex', 'Alex', 'Alex', 'Alex', 'Alex', 'Alex', 'Alex', 'Alex', 'Alex', 'Alex', 'Alex', 'Alex', 'Alex', 'Alex', 'Alex', 'Alex', 'Alex', 'Alex', 'Alex', 'Alex', 'Alex', 'Alex', 'Alex', 'Alex', 'Alex', 'Alex', 'Alex', 'Alex', 'Alex', 'Alex', 'Alex', 'Alex', 'Alex', 'Alex', 'Alex', 'Alex', 'Alex', 'Alex', 'Alex', 'Alex', 'Alex', 'Alex']\n",
      "['Hunter', 'Hunter', 'Hunter', 'Hunter', 'Alex', 'Hunter', 'Alex', 'Alex', 'Hunter', 'Hunter', 'Alex', 'Alex', 'Alex', 'Hunter', 'Alex', 'Hunter', 'Alex', 'Hunter', 'Hunter', 'Hunter', 'Alex', 'Alex', 'Alex', 'Hunter', 'Alex', 'Hunter', 'Alex', 'Alex', 'Alex', 'Hunter', 'Hunter', 'Hunter', 'Alex', 'Alex', 'Hunter', 'Alex', 'Alex', 'Alex', 'Alex', 'Hunter', 'Hunter', 'Alex', 'Hunter', 'Alex', 'Alex', 'Alex', 'Alex', 'Alex', 'Hunter', 'Hunter', 'Alex', 'Hunter', 'Alex', 'Hunter', 'Alex', 'Alex', 'Alex', 'Alex', 'Hunter', 'Alex', 'Alex', 'Alex', 'Alex', 'Hunter', 'Hunter', 'Hunter', 'Hunter', 'Alex', 'Alex', 'Hunter', 'Alex', 'Hunter', 'Hunter', 'Alex', 'Alex', 'Alex', 'Alex', 'Hunter', 'Hunter', 'Alex', 'Hunter', 'Alex', 'Alex', 'Alex', 'Alex', 'Alex', 'Hunter', 'Hunter', 'Alex', 'Alex', 'Alex', 'Alex', 'Alex', 'Hunter', 'Hunter', 'Alex', 'Alex', 'Alex', 'Hunter', 'Alex', 'Hunter', 'Hunter', 'Hunter', 'Hunter', 'Alex', 'Hunter', 'Hunter', 'Alex', 'Alex', 'Hunter', 'Hunter', 'Alex', 'Hunter', 'Hunter', 'Hunter', 'Hunter', 'Hunter', 'Hunter', 'Alex', 'Hunter', 'Alex', 'Alex', 'Hunter', 'Hunter', 'Hunter', 'Hunter', 'Alex', 'Hunter', 'Alex', 'Alex', 'Alex', 'Alex', 'Hunter', 'Hunter', 'Alex', 'Hunter', 'Alex', 'Hunter', 'Hunter', 'Alex', 'Alex', 'Alex', 'Alex', 'Hunter', 'Hunter', 'Alex', 'Hunter', 'Hunter']\n"
     ]
    }
   ],
   "source": [
    "trans_pred = []\n",
    "reg_pred= []\n",
    "\n",
    "for img in x_test:\n",
    "    trans_pred.append(trans_model.predict(np.expand_dims(img, axis=0)))\n",
    "    reg_pred.append(model.predict(np.expand_dims(img, axis=0)))\n",
    "\n",
    "#print(y_test)\n",
    "reg_pred = [\"Hunter\" if x[0][0] > x[0][1] else \"Alex\" for x in reg_pred]\n",
    "trans_pred = [\"Hunter\" if x[0][0] > x[0][1] else \"Alex\" for x in trans_pred]\n",
    "\n",
    "y_test_lab = [\"Hunter\" if x[0] > x[1] else \"Alex\" for x in y_test]\n",
    "\n",
    "# print(reg_pred)\n",
    "print(trans_pred)\n",
    "print(y_test_lab)"
   ]
  },
  {
   "cell_type": "code",
   "execution_count": 157,
   "metadata": {
    "ExecuteTime": {
     "end_time": "2019-11-25T16:27:01.893654Z",
     "start_time": "2019-11-25T16:12:51.896Z"
    }
   },
   "outputs": [
    {
     "name": "stdout",
     "output_type": "stream",
     "text": [
      "Model with No transfer learning\n",
      "              precision    recall  f1-score   support\n",
      "\n",
      "        Alex       1.00      1.00      1.00        78\n",
      "      Hunter       1.00      1.00      1.00        70\n",
      "\n",
      "    accuracy                           1.00       148\n",
      "   macro avg       1.00      1.00      1.00       148\n",
      "weighted avg       1.00      1.00      1.00       148\n",
      "\n",
      "Model with transfer learning\n",
      "              precision    recall  f1-score   support\n",
      "\n",
      "        Alex       0.53      1.00      0.69        78\n",
      "      Hunter       0.00      0.00      0.00        70\n",
      "\n",
      "    accuracy                           0.53       148\n",
      "   macro avg       0.26      0.50      0.35       148\n",
      "weighted avg       0.28      0.53      0.36       148\n",
      "\n"
     ]
    },
    {
     "name": "stderr",
     "output_type": "stream",
     "text": [
      "/Library/Frameworks/Python.framework/Versions/3.6/lib/python3.6/site-packages/sklearn/metrics/classification.py:1437: UndefinedMetricWarning: Precision and F-score are ill-defined and being set to 0.0 in labels with no predicted samples.\n",
      "  'precision', 'predicted', average, warn_for)\n"
     ]
    }
   ],
   "source": [
    "from sklearn.metrics import classification_report\n",
    "print(\"Model with No transfer learning\")\n",
    "print(classification_report(y_test_lab, reg_pred))\n",
    "print(\"Model with transfer learning\")\n",
    "print(classification_report(y_test_lab, trans_pred))"
   ]
  },
  {
   "cell_type": "code",
   "execution_count": 105,
   "metadata": {},
   "outputs": [
    {
     "name": "stderr",
     "output_type": "stream",
     "text": [
      "/Library/Frameworks/Python.framework/Versions/3.6/lib/python3.6/site-packages/keras/engine/saving.py:327: UserWarning: Error in loading the saved optimizer state. As a result, your model is starting with a freshly initialized optimizer.\n",
      "  warnings.warn('Error in loading the saved optimizer '\n"
     ]
    },
    {
     "data": {
      "image/png": "[encoded data removed]",
      "text/plain": [
       "<Figure size 432x288 with 1 Axes>"
      ]
     },
     "metadata": {
      "needs_background": "light"
     },
     "output_type": "display_data"
    }
   ],
   "source": [
    "t_model = load_model(filepath)\n",
    "wavestack = np.stack(wavelet_imgs,axis = 0)\n",
    "trans_imgs = t_model.predict(wavestack)\n",
    "\n",
    "trans_imgs = trans_imgs.reshape(369,-1)\n",
    "\n",
    "from sklearn.decomposition import PCA\n",
    "pca = PCA(n_components=2)\n",
    "pca_trans_imgs = pca.fit_transform(trans_imgs)\n",
    "\n",
    "import matplotlib.patches as mpatches\n",
    "alex = mpatches.Patch(color='blue', label='Alex')\n",
    "hunter = mpatches.Patch(color='red', label='Hunter')\n",
    "\n",
    "a = plt.scatter(pca_trans_imgs[:,0],pca_trans_imgs[:,1],\n",
    "            c=['red' if label=='Hunter' else 'blue' for label in og_labels])\n",
    "\n",
    "plt.legend(handles=[alex,hunter])\n",
    "plt.title('PCA Dimensional Reduction applied to Wavelet Caltech Model')\n",
    "plt.savefig('Caltech_dimension_reduction-Wavelet Transform')"
   ]
  },
  {
   "cell_type": "code",
   "execution_count": 106,
   "metadata": {},
   "outputs": [
    {
     "data": {
      "image/png": "[encoded data removed]",
      "text/plain": [
       "<Figure size 432x288 with 1 Axes>"
      ]
     },
     "metadata": {
      "needs_background": "light"
     },
     "output_type": "display_data"
    }
   ],
   "source": [
    "wavestack = np.stack(wavelet_imgs,axis = 0)\n",
    "trans_imgs = wavestack.reshape(369,-1)\n",
    "\n",
    "from sklearn.decomposition import PCA\n",
    "pca = PCA(n_components=2)\n",
    "pca_trans_imgs = pca.fit_transform(trans_imgs)\n",
    "\n",
    "import matplotlib.patches as mpatches\n",
    "alex = mpatches.Patch(color='blue', label='Alex')\n",
    "hunter = mpatches.Patch(color='red', label='Hunter')\n",
    "\n",
    "a = plt.scatter(pca_trans_imgs[:,0],pca_trans_imgs[:,1],\n",
    "            c=['red' if label=='Hunter' else 'blue' for label in og_labels])\n",
    "\n",
    "plt.legend(handles=[alex,hunter])\n",
    "plt.title('PCA Dimensional Reduction applied to Raw Wavelet Transform')\n",
    "plt.savefig('wavelet_dimension_reduction')"
   ]
  },
  {
   "cell_type": "code",
   "execution_count": null,
   "metadata": {},
   "outputs": [],
   "source": []
  }
 ],
 "metadata": {
  "kernelspec": {
   "display_name": "Python 3",
   "language": "python",
   "name": "python3"
  },
  "language_info": {
   "codemirror_mode": {
    "name": "ipython",
    "version": 3
   },
   "file_extension": ".py",
   "mimetype": "text/x-python",
   "name": "python",
   "nbconvert_exporter": "python",
   "pygments_lexer": "ipython3",
   "version": "3.6.2"
  },
  "toc": {
   "base_numbering": 1,
   "nav_menu": {},
   "number_sections": true,
   "sideBar": true,
   "skip_h1_title": false,
   "title_cell": "Table of Contents",
   "title_sidebar": "Contents",
   "toc_cell": false,
   "toc_position": {},
   "toc_section_display": true,
   "toc_window_display": false
  },
  "varInspector": {
   "cols": {
    "lenName": 16,
    "lenType": 16,
    "lenVar": 40
   },
   "kernels_config": {
    "python": {
     "delete_cmd_postfix": "",
     "delete_cmd_prefix": "del ",
     "library": "var_list.py",
     "varRefreshCmd": "print(var_dic_list())"
    },
    "r": {
     "delete_cmd_postfix": ") ",
     "delete_cmd_prefix": "rm(",
     "library": "var_list.r",
     "varRefreshCmd": "cat(var_dic_list()) "
    }
   },
   "position": {
    "height": "500.573px",
    "left": "1001.34px",
    "right": "20px",
    "top": "126.994px",
    "width": "349.983px"
   },
   "types_to_exclude": [
    "module",
    "function",
    "builtin_function_or_method",
    "instance",
    "_Feature"
   ],
   "window_display": false
  }
 },
 "nbformat": 4,
 "nbformat_minor": 2
}
