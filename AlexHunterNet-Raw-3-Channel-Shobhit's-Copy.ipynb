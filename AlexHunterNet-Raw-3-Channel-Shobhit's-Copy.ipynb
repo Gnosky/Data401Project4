{
 "cells": [
  {
   "cell_type": "code",
   "execution_count": 1,
   "metadata": {
    "ExecuteTime": {
     "end_time": "2019-11-25T18:53:51.647965Z",
     "start_time": "2019-11-25T18:53:51.639989Z"
    }
   },
   "outputs": [
    {
     "name": "stderr",
     "output_type": "stream",
     "text": [
      "Using TensorFlow backend.\n"
     ]
    }
   ],
   "source": [
    "import sys\n",
    "# sys.path.append('./keras-spp/')\n",
    "# from spp.SpatialPyramidPooling import SpatialPyramidPooling\n",
    "\n",
    "from keras.models import load_model\n",
    "from keras.models import Sequential\n",
    "from keras.layers import Dense, Conv2D, MaxPooling2D, BatchNormalization\n",
    "from keras.layers import Dropout, Flatten, GlobalAveragePooling2D\n",
    "from keras.optimizers import SGD\n",
    "from keras.callbacks import ReduceLROnPlateau\n",
    "import numpy as np\n",
    "import glob\n",
    "import os\n",
    "from scipy.misc import imread, imresize\n",
    "import pandas as pd\n",
    "from sklearn.model_selection import train_test_split\n",
    "from keras.preprocessing.image import ImageDataGenerator\n",
    "from skimage.color import rgb2gray\n",
    "from keras.utils import np_utils\n",
    "import pywt\n",
    "import matplotlib.pyplot as plt\n",
    "import cv2\n",
    "from skimage.transform import resize\n"
   ]
  },
  {
   "cell_type": "markdown",
   "metadata": {},
   "source": [
    "#### Load Data"
   ]
  },
  {
   "cell_type": "code",
   "execution_count": 2,
   "metadata": {
    "ExecuteTime": {
     "end_time": "2019-11-25T19:03:58.143439Z",
     "start_time": "2019-11-25T19:03:50.451513Z"
    }
   },
   "outputs": [
    {
     "name": "stderr",
     "output_type": "stream",
     "text": [
      "/Library/Frameworks/Python.framework/Versions/3.6/lib/python3.6/site-packages/ipykernel_launcher.py:6: DeprecationWarning: `imread` is deprecated!\n",
      "`imread` is deprecated in SciPy 1.0.0, and will be removed in 1.2.0.\n",
      "Use ``imageio.imread`` instead.\n",
      "  \n",
      "/Library/Frameworks/Python.framework/Versions/3.6/lib/python3.6/site-packages/ipykernel_launcher.py:10: DeprecationWarning: `imread` is deprecated!\n",
      "`imread` is deprecated in SciPy 1.0.0, and will be removed in 1.2.0.\n",
      "Use ``imageio.imread`` instead.\n",
      "  # Remove the CWD from sys.path while we load stuff.\n"
     ]
    }
   ],
   "source": [
    "master_folder = '../../Desktop/PhotosDataset'\n",
    "\n",
    "imgs = []\n",
    "labels = []\n",
    "for photo in os.listdir(master_folder+'/Alex'):\n",
    "    img = imread(master_folder+'/Alex/'+photo)\n",
    "    imgs.append(resize(img,(200,200,3)))\n",
    "    labels.append('Alex')\n",
    "for photo in os.listdir(master_folder+'/Hunter'):\n",
    "    img = imread(master_folder+'/Hunter/'+photo)\n",
    "    imgs.append(resize(img,(200,200,3)))\n",
    "    labels.append('Hunter')\n",
    "\n",
    "og_labels = labels.copy()\n",
    "labels = np.array([[1,0] if label is 'Hunter' else [0,1] for label in labels])\n",
    "\n"
   ]
  },
  {
   "cell_type": "markdown",
   "metadata": {},
   "source": [
    "#### Massage Data"
   ]
  },
  {
   "cell_type": "code",
   "execution_count": 4,
   "metadata": {
    "ExecuteTime": {
     "end_time": "2019-11-25T19:04:03.952920Z",
     "start_time": "2019-11-25T19:04:03.617848Z"
    }
   },
   "outputs": [
    {
     "name": "stdout",
     "output_type": "stream",
     "text": [
      "0\n",
      "50\n",
      "100\n",
      "150\n",
      "200\n",
      "250\n",
      "300\n",
      "350\n",
      "(200, 102, 3)\n"
     ]
    },
    {
     "data": {
      "text/plain": [
       "(295, 200, 102, 3)"
      ]
     },
     "execution_count": 4,
     "metadata": {},
     "output_type": "execute_result"
    }
   ],
   "source": [
    "# Take out alpha component of image\n",
    "#imgs = [img[:,:,[0,1,2]] for img in imgs]\n",
    "\n",
    "wavelet_imgs = []\n",
    "for i, img in enumerate(imgs):\n",
    "    \n",
    "    if i % 50 == 0:\n",
    "        print(i)\n",
    "    coeffs2 = pywt.dwt2(img, 'bior1.3')\n",
    "    \n",
    "    wavelet_imgs.append(coeffs2[1][:2])\n",
    "\n",
    "for i,stack in enumerate(wavelet_imgs):\n",
    "    stack = np.dstack(stack)\n",
    "    #print(stack)\n",
    "    wavelet_imgs[i] = stack[:,:,:3]\n",
    "print(wavelet_imgs[0].shape)\n",
    "\n",
    "x_train, x_test, y_train, y_test = train_test_split(wavelet_imgs, labels, test_size=.2)\n",
    "x_train = np.stack(x_train,axis=0)\n",
    "x_test = np.stack(x_test,axis=0)\n",
    "\n",
    "num_classes = 2\n",
    "# y_train = np_utils.to_categorical(y_train, num_classes)\n",
    "# y_test = np_utils.to_categorical(y_test, num_classes)\n",
    "\n",
    "x_train.shape"
   ]
  },
  {
   "cell_type": "code",
   "execution_count": null,
   "metadata": {
    "ExecuteTime": {
     "end_time": "2019-11-25T19:04:12.209540Z",
     "start_time": "2019-11-25T19:04:12.013950Z"
    }
   },
   "outputs": [],
   "source": []
  },
  {
   "cell_type": "code",
   "execution_count": 6,
   "metadata": {
    "ExecuteTime": {
     "end_time": "2019-11-25T19:04:14.158734Z",
     "start_time": "2019-11-25T19:04:13.882556Z"
    }
   },
   "outputs": [],
   "source": [
    "# # Use a generator to feed data because data images are of different dimensions so a numpy array cant\n",
    "# # be constructed\n",
    "# def generator(x, y):\n",
    "#     while True:\n",
    "#         for i,img in enumerate(x):\n",
    "#             yield np.expand_dims(img,axis=0), np.expand_dims(y[i],axis=0)\n",
    "            \n",
    "\n",
    "            \n",
    "# gen = generator(x_train, y_train)\n",
    "# val_gen = generator(x_test,y_test)\n",
    "num_channels = 3\n",
    "# num_classes = 2\n",
    "#data augmentation\n",
    "datagen = ImageDataGenerator(\n",
    "    featurewise_center=False,  # set input mean to 0 over the dataset\n",
    "    samplewise_center=False,  # set each sample mean to 0\n",
    "    featurewise_std_normalization=False,  # divide inputs by std of the dataset\n",
    "    samplewise_std_normalization=False,  # divide each input by its std\n",
    "    zca_whitening=False,  # apply ZCA whitening\n",
    "    rotation_range=10,  # randomly rotate images in the range (degrees, 0 to 180)\n",
    "    width_shift_range=.2,  # randomly shift images horizontally (fraction of total width)\n",
    "    height_shift_range=.2,  # randomly shift images vertically (fraction of total height)\n",
    "    horizontal_flip=True,  # randomly flip images\n",
    "    vertical_flip=False)  # randomly flip images\n",
    "\n",
    "datagen.fit(x_train)\n",
    "# gen = generator(x_train, y_train)\n",
    "\n",
    "# val_gen = generator(x_test,y_test)\n",
    "batch_size=4\n",
    "epochs=10\n"
   ]
  },
  {
   "cell_type": "code",
   "execution_count": 7,
   "metadata": {},
   "outputs": [],
   "source": [
    "#print(y_train)"
   ]
  },
  {
   "cell_type": "markdown",
   "metadata": {},
   "source": [
    "### Model with no transfer learning"
   ]
  },
  {
   "cell_type": "code",
   "execution_count": 8,
   "metadata": {
    "ExecuteTime": {
     "end_time": "2019-11-25T19:06:53.384248Z",
     "start_time": "2019-11-25T19:04:15.752457Z"
    }
   },
   "outputs": [
    {
     "name": "stderr",
     "output_type": "stream",
     "text": [
      "W1211 10:46:15.933187 140734816122304 deprecation.py:323] From /Library/Frameworks/Python.framework/Versions/3.6/lib/python3.6/site-packages/tensorflow/python/ops/math_grad.py:1250: add_dispatch_support.<locals>.wrapper (from tensorflow.python.ops.array_ops) is deprecated and will be removed in a future version.\n",
      "Instructions for updating:\n",
      "Use tf.where in 2.0, which has the same broadcast rule as np.where\n",
      "W1211 10:46:16.022058 140734816122304 deprecation_wrapper.py:119] From /Library/Frameworks/Python.framework/Versions/3.6/lib/python3.6/site-packages/keras/backend/tensorflow_backend.py:986: The name tf.assign_add is deprecated. Please use tf.compat.v1.assign_add instead.\n",
      "\n"
     ]
    },
    {
     "name": "stdout",
     "output_type": "stream",
     "text": [
      "Epoch 1/10\n",
      "295/295 [==============================] - 4s 13ms/step - loss: 0.7266 - acc: 0.4814\n",
      "Epoch 2/10\n",
      "295/295 [==============================] - 3s 11ms/step - loss: 0.1261 - acc: 0.9797\n",
      "Epoch 3/10\n",
      "295/295 [==============================] - 3s 12ms/step - loss: 0.0163 - acc: 0.9966\n",
      "Epoch 4/10\n",
      "295/295 [==============================] - 4s 13ms/step - loss: 0.0022 - acc: 1.0000\n",
      "Epoch 5/10\n",
      "295/295 [==============================] - 4s 12ms/step - loss: 0.0016 - acc: 1.0000\n",
      "Epoch 6/10\n",
      "295/295 [==============================] - 3s 12ms/step - loss: 0.0012 - acc: 1.0000\n",
      "Epoch 7/10\n",
      "295/295 [==============================] - 3s 12ms/step - loss: 9.5555e-04 - acc: 1.0000\n",
      "Epoch 8/10\n",
      "295/295 [==============================] - 4s 13ms/step - loss: 7.8721e-04 - acc: 1.0000\n",
      "Epoch 9/10\n",
      "295/295 [==============================] - 4s 14ms/step - loss: 6.6339e-04 - acc: 1.0000\n",
      "Epoch 10/10\n",
      "295/295 [==============================] - 4s 13ms/step - loss: 5.6927e-04 - acc: 1.0000\n"
     ]
    },
    {
     "data": {
      "text/plain": [
       "<keras.callbacks.History at 0x146d44ba8>"
      ]
     },
     "execution_count": 8,
     "metadata": {},
     "output_type": "execute_result"
    }
   ],
   "source": [
    "model = Sequential()\n",
    "\n",
    "# Note that we leave the image size as None to allow multiple image sizes\n",
    "model.add(Conv2D(96, (7, 7),strides=2, padding='same',\n",
    "                 activation='relu',input_shape=(x_train.shape[1],x_train.shape[2],x_train.shape[3]),\n",
    "                name='input_layer'))\n",
    "model.add(MaxPooling2D((3,3)))\n",
    "\n",
    "model.add(Conv2D(48, (5, 5),strides=1, padding='same',activation='sigmoid'))\n",
    "model.add(MaxPooling2D((3,3)))\n",
    "\n",
    "model.add(Conv2D(24, (3, 3),strides=1, padding='same',activation='sigmoid'))\n",
    "model.add(MaxPooling2D((2,2)))\n",
    "\n",
    "model.add(Conv2D(24, (3, 3),strides=1, padding='same',activation='sigmoid'))\n",
    "model.add(Flatten())\n",
    "# # Spatial Pooling layer to deal with differing image sizes\n",
    "#model.add(SpatialPyramidPooling([6, 3, 2,1]))\n",
    "model.add(Dense(512,activation = 'sigmoid'))\n",
    "model.add(Dense(128,activation='sigmoid'))\n",
    "\n",
    "# Classification layer\n",
    "model.add(Dense(2, activation='softmax'))\n",
    "\n",
    "callbacks = []\n",
    "callbacks.append(ReduceLROnPlateau(monitor='val_loss', factor=0.5,\n",
    "                                   patience=15, verbose=1, mode='auto',\n",
    "                                   min_delta=0.0001, cooldown=0, min_lr=0))\n",
    "# opt = SGD(lr=0.01, decay=1e-6, momentum=0.9, nesterov=True)\n",
    "model.compile(loss='categorical_crossentropy', optimizer='adam', metrics=['accuracy'])\n",
    "\n",
    "\n",
    "# hist = model.fit_generator(datagen.flow(x_train, y_train,\n",
    "#                                  batch_size=batch_size),\n",
    "#                     steps_per_epoch=x_train.shape[0] // batch_size,\n",
    "#                     epochs=epochs,\n",
    "#                     validation_data=(x_test, y_test),verbose=1,\n",
    "#                     callbacks=callbacks)\n",
    "\n",
    "model.fit(x_train,y_train, batch_size = batch_size, epochs = epochs)\n"
   ]
  },
  {
   "cell_type": "markdown",
   "metadata": {},
   "source": [
    "### Utilize transfer learning"
   ]
  },
  {
   "cell_type": "code",
   "execution_count": 21,
   "metadata": {
    "ExecuteTime": {
     "end_time": "2019-11-25T19:10:41.602441Z",
     "start_time": "2019-11-25T19:10:39.456789Z"
    }
   },
   "outputs": [
    {
     "name": "stderr",
     "output_type": "stream",
     "text": [
      "/Library/Frameworks/Python.framework/Versions/3.6/lib/python3.6/site-packages/keras/engine/saving.py:327: UserWarning: Error in loading the saved optimizer state. As a result, your model is starting with a freshly initialized optimizer.\n",
      "  warnings.warn('Error in loading the saved optimizer '\n"
     ]
    }
   ],
   "source": [
    "filepath = \"wavelet_model-3-channel.h5\"\n",
    "trans_model = load_model(filepath)\n",
    "#print(trans_model.summary())\n",
    "# Allow no weight adjustments for the pretrained layers\n",
    "for layer in trans_model.layers:\n",
    "    layer.trainable = False\n",
    "\n",
    "trans_model.add(Conv2D(32,(2,2)))\n",
    "trans_model.add(MaxPooling2D((2,2)))\n",
    "trans_model.add(Flatten())\n",
    "trans_model.add(Dense(128,activation='sigmoid'))\n",
    "trans_model.add(Dropout(0.3))\n",
    "\n",
    "trans_model.add(Dense(32, activation = 'sigmoid'))\n",
    "trans_model.add(Dropout(0.3))\n",
    "# Classification Layer\n",
    "trans_model.add(Dense(num_classes, activation='softmax'))"
   ]
  },
  {
   "cell_type": "code",
   "execution_count": 23,
   "metadata": {
    "ExecuteTime": {
     "end_time": "2019-11-25T19:11:28.339449Z",
     "start_time": "2019-11-25T19:10:43.133805Z"
    }
   },
   "outputs": [
    {
     "name": "stdout",
     "output_type": "stream",
     "text": [
      "Epoch 1/1\n",
      "73/73 [==============================] - 8s 105ms/step - loss: 0.1586 - acc: 0.9623 - val_loss: 0.0731 - val_acc: 0.9730\n"
     ]
    }
   ],
   "source": [
    "callbacks = []\n",
    "callbacks.append(ReduceLROnPlateau(monitor='val_loss', factor=0.5,\n",
    "                                   patience=15, verbose=1, mode='auto',\n",
    "                                   min_delta=0.0001, cooldown=0, min_lr=0))\n",
    "opt = SGD(lr=0.01, decay=1e-6, momentum=0.9, nesterov=True)\n",
    "trans_model.compile(loss='categorical_crossentropy', optimizer=opt, metrics=['accuracy'])\n",
    "\n",
    "\n",
    "epochs = 1\n",
    "# Fit model\n",
    "trans_hist = trans_model.fit_generator(datagen.flow(x_train, y_train,\n",
    "                                 batch_size=batch_size),\n",
    "                    steps_per_epoch=x_train.shape[0] // batch_size,\n",
    "                    epochs=epochs,\n",
    "                    validation_data=(x_test, y_test),verbose=1,\n",
    "                    callbacks=callbacks)\n",
    "\n",
    "#trans_model.fit(x_train,y_train, batch_size = batch_size, epochs =6)"
   ]
  },
  {
   "cell_type": "code",
   "execution_count": null,
   "metadata": {},
   "outputs": [],
   "source": []
  },
  {
   "cell_type": "markdown",
   "metadata": {},
   "source": [
    "Evaluate"
   ]
  },
  {
   "cell_type": "code",
   "execution_count": 11,
   "metadata": {
    "ExecuteTime": {
     "end_time": "2019-11-25T16:27:01.888663Z",
     "start_time": "2019-11-25T16:12:50.812Z"
    }
   },
   "outputs": [
    {
     "name": "stdout",
     "output_type": "stream",
     "text": [
      "['Hunter', 'Alex', 'Hunter', 'Hunter', 'Hunter', 'Alex', 'Alex', 'Hunter', 'Hunter', 'Alex', 'Alex', 'Hunter', 'Hunter', 'Alex', 'Alex', 'Alex', 'Hunter', 'Alex', 'Alex', 'Alex', 'Hunter', 'Alex', 'Alex', 'Alex', 'Alex', 'Hunter', 'Hunter', 'Alex', 'Hunter', 'Hunter', 'Hunter', 'Hunter', 'Hunter', 'Alex', 'Hunter', 'Hunter', 'Alex', 'Hunter', 'Hunter', 'Alex', 'Alex', 'Hunter', 'Hunter', 'Hunter', 'Alex', 'Hunter', 'Hunter', 'Hunter', 'Hunter', 'Alex', 'Hunter', 'Hunter', 'Hunter', 'Hunter', 'Hunter', 'Alex', 'Alex', 'Alex', 'Hunter', 'Hunter', 'Alex', 'Alex', 'Hunter', 'Hunter', 'Alex', 'Alex', 'Hunter', 'Alex', 'Hunter', 'Alex', 'Hunter', 'Hunter', 'Hunter', 'Alex']\n",
      "['Hunter', 'Alex', 'Hunter', 'Hunter', 'Hunter', 'Alex', 'Alex', 'Hunter', 'Hunter', 'Alex', 'Alex', 'Hunter', 'Hunter', 'Hunter', 'Alex', 'Alex', 'Hunter', 'Alex', 'Alex', 'Alex', 'Hunter', 'Alex', 'Alex', 'Alex', 'Alex', 'Hunter', 'Hunter', 'Alex', 'Hunter', 'Hunter', 'Hunter', 'Hunter', 'Hunter', 'Alex', 'Hunter', 'Hunter', 'Alex', 'Hunter', 'Hunter', 'Alex', 'Alex', 'Hunter', 'Hunter', 'Hunter', 'Alex', 'Hunter', 'Hunter', 'Hunter', 'Hunter', 'Alex', 'Hunter', 'Hunter', 'Hunter', 'Hunter', 'Hunter', 'Alex', 'Alex', 'Alex', 'Hunter', 'Hunter', 'Alex', 'Alex', 'Hunter', 'Hunter', 'Alex', 'Alex', 'Hunter', 'Alex', 'Hunter', 'Alex', 'Hunter', 'Hunter', 'Hunter', 'Alex']\n"
     ]
    }
   ],
   "source": [
    "trans_pred = []\n",
    "reg_pred= []\n",
    "\n",
    "for img in x_test:\n",
    "    trans_pred.append(trans_model.predict(np.expand_dims(img, axis=0)))\n",
    "    reg_pred.append(model.predict(np.expand_dims(img, axis=0)))\n",
    "\n",
    "#print(y_test)\n",
    "reg_pred = [\"Hunter\" if x[0][0] > x[0][1] else \"Alex\" for x in reg_pred]\n",
    "trans_pred = [\"Hunter\" if x[0][0] > x[0][1] else \"Alex\" for x in trans_pred]\n",
    "\n",
    "y_test_lab = [\"Hunter\" if x[0] > x[1] else \"Alex\" for x in y_test]\n",
    "\n",
    "# print(reg_pred)\n",
    "print(trans_pred)\n",
    "print(y_test_lab)"
   ]
  },
  {
   "cell_type": "code",
   "execution_count": 12,
   "metadata": {
    "ExecuteTime": {
     "end_time": "2019-11-25T16:27:01.893654Z",
     "start_time": "2019-11-25T16:12:51.896Z"
    }
   },
   "outputs": [
    {
     "name": "stdout",
     "output_type": "stream",
     "text": [
      "Model with No transfer learning\n",
      "              precision    recall  f1-score   support\n",
      "\n",
      "        Alex       1.00      1.00      1.00        31\n",
      "      Hunter       1.00      1.00      1.00        43\n",
      "\n",
      "    accuracy                           1.00        74\n",
      "   macro avg       1.00      1.00      1.00        74\n",
      "weighted avg       1.00      1.00      1.00        74\n",
      "\n",
      "Model with transfer learning\n",
      "              precision    recall  f1-score   support\n",
      "\n",
      "        Alex       0.97      1.00      0.98        31\n",
      "      Hunter       1.00      0.98      0.99        43\n",
      "\n",
      "    accuracy                           0.99        74\n",
      "   macro avg       0.98      0.99      0.99        74\n",
      "weighted avg       0.99      0.99      0.99        74\n",
      "\n"
     ]
    }
   ],
   "source": [
    "from sklearn.metrics import classification_report\n",
    "print(\"Model with No transfer learning\")\n",
    "print(classification_report(y_test_lab, reg_pred))\n",
    "print(\"Model with transfer learning\")\n",
    "print(classification_report(y_test_lab, trans_pred))"
   ]
  },
  {
   "cell_type": "code",
   "execution_count": 13,
   "metadata": {},
   "outputs": [
    {
     "name": "stderr",
     "output_type": "stream",
     "text": [
      "/Library/Frameworks/Python.framework/Versions/3.6/lib/python3.6/site-packages/keras/engine/saving.py:327: UserWarning: Error in loading the saved optimizer state. As a result, your model is starting with a freshly initialized optimizer.\n",
      "  warnings.warn('Error in loading the saved optimizer '\n"
     ]
    },
    {
     "data": {
      "image/png": "[encoded data removed]",
      "text/plain": [
       "<Figure size 432x288 with 1 Axes>"
      ]
     },
     "metadata": {
      "needs_background": "light"
     },
     "output_type": "display_data"
    }
   ],
   "source": [
    "t_model = load_model(filepath)\n",
    "wavestack = np.stack(wavelet_imgs,axis = 0)\n",
    "trans_imgs = t_model.predict(wavestack)\n",
    "\n",
    "trans_imgs = trans_imgs.reshape(369,-1)\n",
    "\n",
    "from sklearn.decomposition import PCA\n",
    "pca = PCA(n_components=2)\n",
    "pca_trans_imgs = pca.fit_transform(trans_imgs)\n",
    "\n",
    "import matplotlib.patches as mpatches\n",
    "alex = mpatches.Patch(color='blue', label='Alex')\n",
    "hunter = mpatches.Patch(color='red', label='Hunter')\n",
    "\n",
    "a = plt.scatter(pca_trans_imgs[:,0],pca_trans_imgs[:,1],\n",
    "            c=['red' if label=='Hunter' else 'blue' for label in og_labels])\n",
    "\n",
    "plt.legend(handles=[alex,hunter])\n",
    "plt.title('PCA Dimensional Reduction applied to Wavelet Caltech Model')\n",
    "plt.savefig('Caltech_dimension_reduction-Wavelet Transform')"
   ]
  },
  {
   "cell_type": "code",
   "execution_count": 24,
   "metadata": {},
   "outputs": [
    {
     "data": {
      "image/png": "[encoded data removed]",
      "text/plain": [
       "<Figure size 432x288 with 1 Axes>"
      ]
     },
     "metadata": {
      "needs_background": "light"
     },
     "output_type": "display_data"
    }
   ],
   "source": [
    "wavestack = np.stack(wavelet_imgs,axis = 0)\n",
    "trans_imgs = wavestack.reshape(369,-1)\n",
    "\n",
    "from sklearn.decomposition import PCA\n",
    "pca = PCA(n_components=2)\n",
    "pca_trans_imgs = pca.fit_transform(trans_imgs)\n",
    "\n",
    "import matplotlib.patches as mpatches\n",
    "alex = mpatches.Patch(color='blue', label='Alex')\n",
    "hunter = mpatches.Patch(color='red', label='Hunter')\n",
    "\n",
    "a = plt.scatter(pca_trans_imgs[:,0],pca_trans_imgs[:,1],\n",
    "            c=['red' if label=='Hunter' else 'blue' for label in og_labels])\n",
    "\n",
    "plt.legend(handles=[alex,hunter])\n",
    "plt.title('PCA Dimensional Reduction applied to Raw Wavelet Transform')\n",
    "plt.savefig('wavelet_dimension_reduction')"
   ]
  },
  {
   "cell_type": "code",
   "execution_count": null,
   "metadata": {},
   "outputs": [],
   "source": []
  }
 ],
 "metadata": {
  "kernelspec": {
   "display_name": "Python 3",
   "language": "python",
   "name": "python3"
  },
  "language_info": {
   "codemirror_mode": {
    "name": "ipython",
    "version": 3
   },
   "file_extension": ".py",
   "mimetype": "text/x-python",
   "name": "python",
   "nbconvert_exporter": "python",
   "pygments_lexer": "ipython3",
   "version": "3.6.2"
  },
  "toc": {
   "base_numbering": 1,
   "nav_menu": {},
   "number_sections": true,
   "sideBar": true,
   "skip_h1_title": false,
   "title_cell": "Table of Contents",
   "title_sidebar": "Contents",
   "toc_cell": false,
   "toc_position": {},
   "toc_section_display": true,
   "toc_window_display": false
  },
  "varInspector": {
   "cols": {
    "lenName": 16,
    "lenType": 16,
    "lenVar": 40
   },
   "kernels_config": {
    "python": {
     "delete_cmd_postfix": "",
     "delete_cmd_prefix": "del ",
     "library": "var_list.py",
     "varRefreshCmd": "print(var_dic_list())"
    },
    "r": {
     "delete_cmd_postfix": ") ",
     "delete_cmd_prefix": "rm(",
     "library": "var_list.r",
     "varRefreshCmd": "cat(var_dic_list()) "
    }
   },
   "position": {
    "height": "500.573px",
    "left": "1001.34px",
    "right": "20px",
    "top": "126.994px",
    "width": "349.983px"
   },
   "types_to_exclude": [
    "module",
    "function",
    "builtin_function_or_method",
    "instance",
    "_Feature"
   ],
   "window_display": false
  }
 },
 "nbformat": 4,
 "nbformat_minor": 2
}
